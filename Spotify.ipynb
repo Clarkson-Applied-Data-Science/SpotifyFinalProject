{
 "cells": [
  {
   "cell_type": "code",
   "execution_count": 1,
   "id": "633646e6-055c-4d9c-a497-2a941103da0b",
   "metadata": {
    "collapsed": true,
    "jupyter": {
     "outputs_hidden": true
    },
    "tags": []
   },
   "outputs": [
    {
     "name": "stdout",
     "output_type": "stream",
     "text": [
      "Collecting spotipy\n",
      "  Downloading spotipy-2.21.0-py3-none-any.whl (28 kB)\n",
      "Requirement already satisfied: requests>=2.25.0 in /opt/homebrew/Cellar/jupyterlab/3.4.7/libexec/lib/python3.10/site-packages (from spotipy) (2.28.1)\n",
      "Requirement already satisfied: six>=1.15.0 in /opt/homebrew/Cellar/six/1.16.0_2/lib/python3.10/site-packages (from spotipy) (1.16.0)\n",
      "Requirement already satisfied: urllib3>=1.26.0 in /opt/homebrew/Cellar/jupyterlab/3.4.7/libexec/lib/python3.10/site-packages (from spotipy) (1.26.12)\n",
      "Collecting redis>=3.5.3\n",
      "  Downloading redis-4.3.5-py3-none-any.whl (248 kB)\n",
      "\u001b[2K     \u001b[90m━━━━━━━━━━━━━━━━━━━━━━━━━━━━━━━━━━━━━━━\u001b[0m \u001b[32m248.7/248.7 kB\u001b[0m \u001b[31m3.2 MB/s\u001b[0m eta \u001b[36m0:00:00\u001b[0ma \u001b[36m0:00:01\u001b[0m\n",
      "\u001b[?25hCollecting async-timeout>=4.0.2\n",
      "  Downloading async_timeout-4.0.2-py3-none-any.whl (5.8 kB)\n",
      "Requirement already satisfied: packaging>=20.4 in /opt/homebrew/Cellar/jupyterlab/3.4.7/libexec/lib/python3.10/site-packages (from redis>=3.5.3->spotipy) (21.3)\n",
      "Requirement already satisfied: charset-normalizer<3,>=2 in /opt/homebrew/Cellar/jupyterlab/3.4.7/libexec/lib/python3.10/site-packages (from requests>=2.25.0->spotipy) (2.1.1)\n",
      "Requirement already satisfied: idna<4,>=2.5 in /opt/homebrew/Cellar/jupyterlab/3.4.7/libexec/lib/python3.10/site-packages (from requests>=2.25.0->spotipy) (3.4)\n",
      "Requirement already satisfied: certifi>=2017.4.17 in /opt/homebrew/Cellar/jupyterlab/3.4.7/libexec/lib/python3.10/site-packages (from requests>=2.25.0->spotipy) (2022.6.15.2)\n",
      "Requirement already satisfied: pyparsing!=3.0.5,>=2.0.2 in /opt/homebrew/Cellar/jupyterlab/3.4.7/libexec/lib/python3.10/site-packages (from packaging>=20.4->redis>=3.5.3->spotipy) (3.0.9)\n",
      "Installing collected packages: async-timeout, redis, spotipy\n",
      "Successfully installed async-timeout-4.0.2 redis-4.3.5 spotipy-2.21.0\n",
      "\n",
      "\u001b[1m[\u001b[0m\u001b[34;49mnotice\u001b[0m\u001b[1;39;49m]\u001b[0m\u001b[39;49m A new release of pip available: \u001b[0m\u001b[31;49m22.2.2\u001b[0m\u001b[39;49m -> \u001b[0m\u001b[32;49m22.3.1\u001b[0m\n",
      "\u001b[1m[\u001b[0m\u001b[34;49mnotice\u001b[0m\u001b[1;39;49m]\u001b[0m\u001b[39;49m To update, run: \u001b[0m\u001b[32;49mpython3.10 -m pip install --upgrade pip\u001b[0m\n",
      "Note: you may need to restart the kernel to use updated packages.\n"
     ]
    }
   ],
   "source": [
    "pip install spotipy"
   ]
  },
  {
   "cell_type": "code",
   "execution_count": 10,
   "id": "4e9c32d6-2a39-4991-a7d5-dfec21a278da",
   "metadata": {},
   "outputs": [],
   "source": [
    "import spotipy, mysecrets\n",
    "from spotipy.oauth2 import SpotifyClientCredentials \n",
    "client_credentials_manager = SpotifyClientCredentials(client_id=mysecrets.client_id, client_secret=mysecrets.client_secret)\n",
    "sp = spotipy.Spotify(client_credentials_manager=client_credentials_manager) "
   ]
  },
  {
   "cell_type": "code",
   "execution_count": null,
   "id": "1159e324-64f5-41bb-9b61-0413a49918c6",
   "metadata": {},
   "outputs": [],
   "source": []
  }
 ],
 "metadata": {
  "kernelspec": {
   "display_name": "Python 3 (ipykernel)",
   "language": "python",
   "name": "python3"
  },
  "language_info": {
   "codemirror_mode": {
    "name": "ipython",
    "version": 3
   },
   "file_extension": ".py",
   "mimetype": "text/x-python",
   "name": "python",
   "nbconvert_exporter": "python",
   "pygments_lexer": "ipython3",
   "version": "3.10.6"
  }
 },
 "nbformat": 4,
 "nbformat_minor": 5
}
