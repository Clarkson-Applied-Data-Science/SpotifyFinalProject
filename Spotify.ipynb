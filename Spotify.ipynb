{
 "cells": [
  {
   "cell_type": "code",
   "execution_count": 1,
   "id": "633646e6-055c-4d9c-a497-2a941103da0b",
   "metadata": {
    "collapsed": true,
    "jupyter": {
     "outputs_hidden": true
    },
    "tags": []
   },
   "outputs": [
    {
     "name": "stdout",
     "output_type": "stream",
     "text": [
      "Collecting spotipy\n",
      "  Downloading spotipy-2.21.0-py3-none-any.whl (28 kB)\n",
      "Requirement already satisfied: requests>=2.25.0 in /opt/homebrew/Cellar/jupyterlab/3.4.7/libexec/lib/python3.10/site-packages (from spotipy) (2.28.1)\n",
      "Requirement already satisfied: six>=1.15.0 in /opt/homebrew/Cellar/six/1.16.0_2/lib/python3.10/site-packages (from spotipy) (1.16.0)\n",
      "Requirement already satisfied: urllib3>=1.26.0 in /opt/homebrew/Cellar/jupyterlab/3.4.7/libexec/lib/python3.10/site-packages (from spotipy) (1.26.12)\n",
      "Collecting redis>=3.5.3\n",
      "  Downloading redis-4.3.5-py3-none-any.whl (248 kB)\n",
      "\u001b[2K     \u001b[90m━━━━━━━━━━━━━━━━━━━━━━━━━━━━━━━━━━━━━━━\u001b[0m \u001b[32m248.7/248.7 kB\u001b[0m \u001b[31m3.2 MB/s\u001b[0m eta \u001b[36m0:00:00\u001b[0ma \u001b[36m0:00:01\u001b[0m\n",
      "\u001b[?25hCollecting async-timeout>=4.0.2\n",
      "  Downloading async_timeout-4.0.2-py3-none-any.whl (5.8 kB)\n",
      "Requirement already satisfied: packaging>=20.4 in /opt/homebrew/Cellar/jupyterlab/3.4.7/libexec/lib/python3.10/site-packages (from redis>=3.5.3->spotipy) (21.3)\n",
      "Requirement already satisfied: charset-normalizer<3,>=2 in /opt/homebrew/Cellar/jupyterlab/3.4.7/libexec/lib/python3.10/site-packages (from requests>=2.25.0->spotipy) (2.1.1)\n",
      "Requirement already satisfied: idna<4,>=2.5 in /opt/homebrew/Cellar/jupyterlab/3.4.7/libexec/lib/python3.10/site-packages (from requests>=2.25.0->spotipy) (3.4)\n",
      "Requirement already satisfied: certifi>=2017.4.17 in /opt/homebrew/Cellar/jupyterlab/3.4.7/libexec/lib/python3.10/site-packages (from requests>=2.25.0->spotipy) (2022.6.15.2)\n",
      "Requirement already satisfied: pyparsing!=3.0.5,>=2.0.2 in /opt/homebrew/Cellar/jupyterlab/3.4.7/libexec/lib/python3.10/site-packages (from packaging>=20.4->redis>=3.5.3->spotipy) (3.0.9)\n",
      "Installing collected packages: async-timeout, redis, spotipy\n",
      "Successfully installed async-timeout-4.0.2 redis-4.3.5 spotipy-2.21.0\n",
      "\n",
      "\u001b[1m[\u001b[0m\u001b[34;49mnotice\u001b[0m\u001b[1;39;49m]\u001b[0m\u001b[39;49m A new release of pip available: \u001b[0m\u001b[31;49m22.2.2\u001b[0m\u001b[39;49m -> \u001b[0m\u001b[32;49m22.3.1\u001b[0m\n",
      "\u001b[1m[\u001b[0m\u001b[34;49mnotice\u001b[0m\u001b[1;39;49m]\u001b[0m\u001b[39;49m To update, run: \u001b[0m\u001b[32;49mpython3.10 -m pip install --upgrade pip\u001b[0m\n",
      "Note: you may need to restart the kernel to use updated packages.\n"
     ]
    }
   ],
   "source": [
    "pip install spotipy"
   ]
  },
  {
   "cell_type": "code",
   "execution_count": 42,
   "id": "4e9c32d6-2a39-4991-a7d5-dfec21a278da",
   "metadata": {},
   "outputs": [],
   "source": [
    "import spotipy, mysecrets,requests,base64,webbrowser,json,time\n",
    "from urllib.parse import urlencode\n",
    "from spotipy.oauth2 import SpotifyClientCredentials \n",
    "import pandas as pd"
   ]
  },
  {
   "cell_type": "code",
   "execution_count": 43,
   "id": "1159e324-64f5-41bb-9b61-0413a49918c6",
   "metadata": {},
   "outputs": [],
   "source": [
    "client_id = mysecrets.client_id\n",
    "client_secret = mysecrets.client_secret\n",
    "\n",
    "auth_headers = {\n",
    "    \"client_id\": client_id,\n",
    "    \"response_type\": \"code\",\n",
    "    \"redirect_uri\": \"http://localhost:7777/callback\",\n",
    "    \"scope\": \"user-library-read\"\n",
    "} "
   ]
  },
  {
   "cell_type": "code",
   "execution_count": 44,
   "id": "d00c72ab-9a50-4d32-894f-9b25550052f1",
   "metadata": {},
   "outputs": [
    {
     "data": {
      "text/plain": [
       "True"
      ]
     },
     "execution_count": 44,
     "metadata": {},
     "output_type": "execute_result"
    }
   ],
   "source": [
    "webbrowser.open(\"https://accounts.spotify.com/authorize?\" + urlencode(auth_headers))"
   ]
  },
  {
   "cell_type": "code",
   "execution_count": 27,
   "id": "ab1ed5ac-ca61-4a50-89aa-97c52be429fa",
   "metadata": {},
   "outputs": [],
   "source": [
    "code = \"AQCPxGq2V1YzNiSdRjXddUKyJcjOw3LptlCUJSTmxxWuDYhqPm6rs8zKq7RCPGs4iXDwBgnwBiIAiQJzAlrKBnHEW7wkPpBYxYzWZ0heTqQ-sCq7zT0-8WeDfVJ_Na2SkqkIU9Rry5Pf9aeivtXSydhyIgrAPuIqiQWAbaMZluD2EMJHeFXUyh9OOnM1OjZ_bSFw4pg\""
   ]
  },
  {
   "cell_type": "code",
   "execution_count": 28,
   "id": "0b8128d4-909f-4129-9022-d469eb0a9e62",
   "metadata": {},
   "outputs": [],
   "source": [
    "encoded_credentials = base64.b64encode(client_id.encode() + b':' + client_secret.encode()).decode(\"utf-8\")\n",
    "\n",
    "token_headers = {\n",
    "    \"Authorization\": \"Basic \" + encoded_credentials,\n",
    "    \"Content-Type\": \"application/x-www-form-urlencoded\"\n",
    "}\n",
    "\n",
    "token_data = {\n",
    "    \"grant_type\": \"authorization_code\",\n",
    "    \"code\": code,\n",
    "    \"redirect_uri\": \"http://localhost:7777/callback\"\n",
    "}\n",
    "\n",
    "r = requests.post(\"https://accounts.spotify.com/api/token\", data = token_data, headers = token_headers)"
   ]
  },
  {
   "cell_type": "code",
   "execution_count": 29,
   "id": "1827b27e-56f3-4f25-8459-8239a9409ad1",
   "metadata": {
    "tags": []
   },
   "outputs": [
    {
     "name": "stdout",
     "output_type": "stream",
     "text": [
      "BQBVKTU738Nx-TOVQUMf149FTkAThHf9QkCefMFOI9eC0YC1VFX2E3QeoXCFkxlMjs0P9Fuo9dvnSFcyL8f83rVFP0sQ38r7bt4QwstQBdceq_xax5YUJq1H0VoWD4g0KhigvxcHwPkmazL3xbILg6PUMsHMHwN0qfcBKsIi2fcijtS5RBRRkCxZTy4MJxlB\n"
     ]
    }
   ],
   "source": [
    "token = r.json()[\"access_token\"]\n",
    "\n",
    "print(token)"
   ]
  },
  {
   "cell_type": "code",
   "execution_count": 30,
   "id": "ef0b64f2-1f4d-4295-912c-be9ee27338a4",
   "metadata": {},
   "outputs": [],
   "source": [
    "client_credentials_manager = SpotifyClientCredentials(client_id=client_id, client_secret=client_secret)\n",
    "sp = spotipy.Spotify(client_credentials_manager=client_credentials_manager) "
   ]
  },
  {
   "cell_type": "code",
   "execution_count": 31,
   "id": "c20bd908-8c7f-4e20-8749-d4b45e07a3fe",
   "metadata": {},
   "outputs": [],
   "source": [
    "playlist_uri = {\n",
    " \"mp2015\" : \"7eBMr6C6GgyUdphppfsHGG\",\n",
    " \"mp2016\" : \"5s30jHYXIa8pqpZ5llc8UW\",\n",
    " \"mp2017\" : \"0y3DRV98utNLVxPkFUHr60\",\n",
    " \"mp2018\" : \"4oICEU7lJwh5B1bi11Fl81\",\n",
    " \"mp2019\" : \"0A6Mf0tkJTZyvoMBq29dzP\",\n",
    " \"mp2020\" : \"1LNWFkUgYkCcqhjl1zArEJ\",\n",
    " \"mp2021\" : \"2my6pETpT9mbvgUmbbE123\",\n",
    " \"mp2022\" : \"08hpQsg5CMFiO8zngrxBwm\"\n",
    "}\n",
    "\n",
    "playlist_uri2 = {\n",
    " \"mp2015\" : \"7eBMr6C6GgyUdphppfsHGG\",\n",
    " \"mp2016\" : \"5s30jHYXIa8pqpZ5llc8UW\"\n",
    "}"
   ]
  },
  {
   "cell_type": "code",
   "execution_count": 54,
   "id": "ef6bf434-5a73-47de-bf73-308a6b50f98d",
   "metadata": {},
   "outputs": [],
   "source": [
    "playlist_spot = {\n",
    " \"sp2015\" : \"37i9dQZF1DX9ukdrXQLJGZ\",\n",
    " \"sp2016\" : \"37i9dQZF1DX8XZ6AUo9R4R\",\n",
    " \"sp2017\" : \"37i9dQZF1DWTE7dVUebpUW\",\n",
    " \"sp2018\" : \"37i9dQZF1DXe2bobNYDtW8\",\n",
    " \"sp2019\" : \"37i9dQZF1DWVRSukIED0e9\",\n",
    " \"sp2020\" : \"2fmTTbBkXi8pewbUvG3CeZ\",\n",
    " \"sp2021\" : \"5GhQiRkGuqzpWZSE7OU4Se\",\n",
    " \"sp2022\" : \"08hpQsg5CMFiO8zngrxBwm\"\n",
    "}\n",
    "\n",
    "playlist_spot = {\n",
    " \"sp2015\" : \"37i9dQZF1DX9ukdrXQLJGZ\",\n",
    " \"sp2016\" : \"37i9dQZF1DX8XZ6AUo9R4R\"\n",
    "}"
   ]
  },
  {
   "cell_type": "code",
   "execution_count": 51,
   "id": "f8c17d53-c791-4417-81a2-3e3134d7d71c",
   "metadata": {},
   "outputs": [],
   "source": [
    "def get_track_id(user,playlist_id):\n",
    "    track_id = []\n",
    "    playlist = sp.user_playlist(user,playlist_id)\n",
    "    for item in playlist['tracks']['items']:\n",
    "        track = item['track']\n",
    "        track_id.append(get_features(track['id']))\n",
    "    return track_id"
   ]
  },
  {
   "cell_type": "code",
   "execution_count": 52,
   "id": "30f80a5f-373d-4e2d-a005-86dacef8c4f5",
   "metadata": {},
   "outputs": [],
   "source": [
    "def get_features(id):\n",
    "    track_info = sp.track(id)\n",
    "    features_info = sp.audio_features(id)\n",
    "    \n",
    "    #song information\n",
    "    name = track_info['name']\n",
    "    album = track_info['album']['name']\n",
    "    artist = track_info['album']['artists'][0]['name']\n",
    "    release_date = track_info['album']['release_date']\n",
    "    duration = track_info['duration_ms']\n",
    "    popularity = track_info['popularity']\n",
    "    \n",
    "    #song audio features\n",
    "    \n",
    "    acousticness = features_info[0]['acousticness']\n",
    "    danceability = features_info[0]['danceability']\n",
    "    energy = features_info[0]['energy']\n",
    "    instrumentalness = features_info[0]['instrumentalness']\n",
    "    liveness = features_info[0]['liveness']\n",
    "    loudness = features_info[0]['loudness']\n",
    "    speechiness = features_info[0]['speechiness']\n",
    "    tempo = features_info[0]['tempo']\n",
    "    time_signature = features_info[0]['time_signature']\n",
    "    \n",
    "    track_data = [name, album, artist, release_date, duration, popularity, acousticness,\n",
    "                  danceability, energy, instrumentalness, liveness, loudness, speechiness, tempo, time_signature]\n",
    "    return track_data"
   ]
  },
  {
   "cell_type": "code",
   "execution_count": 58,
   "id": "981eea1d-e8a2-413e-80d1-8d1004bf7b80",
   "metadata": {
    "tags": []
   },
   "outputs": [
    {
     "data": {
      "text/html": [
       "<div>\n",
       "<style scoped>\n",
       "    .dataframe tbody tr th:only-of-type {\n",
       "        vertical-align: middle;\n",
       "    }\n",
       "\n",
       "    .dataframe tbody tr th {\n",
       "        vertical-align: top;\n",
       "    }\n",
       "\n",
       "    .dataframe thead th {\n",
       "        text-align: right;\n",
       "    }\n",
       "</style>\n",
       "<table border=\"1\" class=\"dataframe\">\n",
       "  <thead>\n",
       "    <tr style=\"text-align: right;\">\n",
       "      <th></th>\n",
       "      <th>Year</th>\n",
       "      <th>Title</th>\n",
       "      <th>Album</th>\n",
       "      <th>Artist</th>\n",
       "      <th>Release_Date</th>\n",
       "      <th>Duration</th>\n",
       "      <th>Popularity</th>\n",
       "      <th>Acousticness</th>\n",
       "      <th>Danceability</th>\n",
       "      <th>Energy</th>\n",
       "      <th>Instrumentalness</th>\n",
       "      <th>Liveness</th>\n",
       "      <th>Loudness</th>\n",
       "      <th>Speechiness</th>\n",
       "      <th>Tempo</th>\n",
       "      <th>Time_Signature</th>\n",
       "    </tr>\n",
       "  </thead>\n",
       "  <tbody>\n",
       "    <tr>\n",
       "      <th>0</th>\n",
       "      <td>2015</td>\n",
       "      <td>679 (feat. Remy Boyz)</td>\n",
       "      <td>679 (feat. Remy Boyz)</td>\n",
       "      <td>Fetty Wap</td>\n",
       "      <td>2015-06-29</td>\n",
       "      <td>196693</td>\n",
       "      <td>74</td>\n",
       "      <td>0.00256</td>\n",
       "      <td>0.618</td>\n",
       "      <td>0.717</td>\n",
       "      <td>0.000000</td>\n",
       "      <td>0.625</td>\n",
       "      <td>-5.738</td>\n",
       "      <td>0.3180</td>\n",
       "      <td>190.050</td>\n",
       "      <td>4</td>\n",
       "    </tr>\n",
       "    <tr>\n",
       "      <th>1</th>\n",
       "      <td>2015</td>\n",
       "      <td>Lean On</td>\n",
       "      <td>Lean On</td>\n",
       "      <td>Major Lazer</td>\n",
       "      <td>2015-03-02</td>\n",
       "      <td>176561</td>\n",
       "      <td>0</td>\n",
       "      <td>0.00339</td>\n",
       "      <td>0.713</td>\n",
       "      <td>0.790</td>\n",
       "      <td>0.000868</td>\n",
       "      <td>0.485</td>\n",
       "      <td>-4.602</td>\n",
       "      <td>0.0574</td>\n",
       "      <td>98.011</td>\n",
       "      <td>4</td>\n",
       "    </tr>\n",
       "    <tr>\n",
       "      <th>2</th>\n",
       "      <td>2015</td>\n",
       "      <td>Trap Queen</td>\n",
       "      <td>Trap Queen</td>\n",
       "      <td>Fetty Wap</td>\n",
       "      <td>2014-12-15</td>\n",
       "      <td>222093</td>\n",
       "      <td>42</td>\n",
       "      <td>0.02440</td>\n",
       "      <td>0.746</td>\n",
       "      <td>0.873</td>\n",
       "      <td>0.000000</td>\n",
       "      <td>0.354</td>\n",
       "      <td>-3.803</td>\n",
       "      <td>0.1280</td>\n",
       "      <td>148.075</td>\n",
       "      <td>4</td>\n",
       "    </tr>\n",
       "  </tbody>\n",
       "</table>\n",
       "</div>"
      ],
      "text/plain": [
       "   Year                  Title                  Album       Artist  \\\n",
       "0  2015  679 (feat. Remy Boyz)  679 (feat. Remy Boyz)    Fetty Wap   \n",
       "1  2015                Lean On                Lean On  Major Lazer   \n",
       "2  2015             Trap Queen             Trap Queen    Fetty Wap   \n",
       "\n",
       "  Release_Date Duration Popularity  Acousticness  Danceability  Energy  \\\n",
       "0   2015-06-29   196693         74       0.00256         0.618   0.717   \n",
       "1   2015-03-02   176561          0       0.00339         0.713   0.790   \n",
       "2   2014-12-15   222093         42       0.02440         0.746   0.873   \n",
       "\n",
       "   Instrumentalness  Liveness  Loudness  Speechiness    Tempo Time_Signature  \n",
       "0          0.000000     0.625    -5.738       0.3180  190.050              4  \n",
       "1          0.000868     0.485    -4.602       0.0574   98.011              4  \n",
       "2          0.000000     0.354    -3.803       0.1280  148.075              4  "
      ]
     },
     "execution_count": 58,
     "metadata": {},
     "output_type": "execute_result"
    }
   ],
   "source": [
    "    \n",
    "SpotifyPlaylist = pd.DataFrame(columns = ['Year','Title', 'Album', 'Artist', 'Release_Date', 'Duration', 'Popularity', 'Acousticness',\n",
    "                  'Danceability', 'Energy', 'Instrumentalness', 'Liveness', 'Loudness', 'Speechiness','Tempo', 'Time_Signature'])\n",
    "\n",
    "for year, uri in playlist_uri.items():\n",
    "    time.sleep(.3)\n",
    "    track_list = get_track_id(\"spotify\",uri)\n",
    "    yoyplaylist = pd.DataFrame(track_list, columns = ['Title', 'Album', 'Artist', 'Release_Date', 'Duration', 'Popularity', 'Acousticness',\n",
    "                  'Danceability', 'Energy', 'Instrumentalness', 'Liveness', 'Loudness', 'Speechiness','Tempo', 'Time_Signature'])\n",
    "    yoyplaylist['Year'] = year[-4:]\n",
    "    playlist = pd.concat([playlist,yoyplaylist])\n",
    "\n",
    "playlist.head(3)\n"
   ]
  },
  {
   "cell_type": "code",
   "execution_count": 59,
   "id": "a465414f-c937-4f8c-ad34-480e76808e44",
   "metadata": {},
   "outputs": [
    {
     "data": {
      "text/html": [
       "<div>\n",
       "<style scoped>\n",
       "    .dataframe tbody tr th:only-of-type {\n",
       "        vertical-align: middle;\n",
       "    }\n",
       "\n",
       "    .dataframe tbody tr th {\n",
       "        vertical-align: top;\n",
       "    }\n",
       "\n",
       "    .dataframe thead th {\n",
       "        text-align: right;\n",
       "    }\n",
       "</style>\n",
       "<table border=\"1\" class=\"dataframe\">\n",
       "  <thead>\n",
       "    <tr style=\"text-align: right;\">\n",
       "      <th></th>\n",
       "      <th>Year</th>\n",
       "      <th>Title</th>\n",
       "      <th>Album</th>\n",
       "      <th>Artist</th>\n",
       "      <th>Release_Date</th>\n",
       "      <th>Duration</th>\n",
       "      <th>Popularity</th>\n",
       "      <th>Acousticness</th>\n",
       "      <th>Danceability</th>\n",
       "      <th>Energy</th>\n",
       "      <th>Instrumentalness</th>\n",
       "      <th>Liveness</th>\n",
       "      <th>Loudness</th>\n",
       "      <th>Speechiness</th>\n",
       "      <th>Tempo</th>\n",
       "      <th>Time_Signature</th>\n",
       "    </tr>\n",
       "  </thead>\n",
       "  <tbody>\n",
       "    <tr>\n",
       "      <th>0</th>\n",
       "      <td>2015</td>\n",
       "      <td>Uptown Funk (feat. Bruno Mars)</td>\n",
       "      <td>Uptown Special</td>\n",
       "      <td>Mark Ronson</td>\n",
       "      <td>2015-01-12</td>\n",
       "      <td>269666</td>\n",
       "      <td>83</td>\n",
       "      <td>0.00801</td>\n",
       "      <td>0.856</td>\n",
       "      <td>0.609</td>\n",
       "      <td>0.000082</td>\n",
       "      <td>0.0344</td>\n",
       "      <td>-7.223</td>\n",
       "      <td>0.0824</td>\n",
       "      <td>114.988</td>\n",
       "      <td>4</td>\n",
       "    </tr>\n",
       "    <tr>\n",
       "      <th>1</th>\n",
       "      <td>2015</td>\n",
       "      <td>Thinking out Loud</td>\n",
       "      <td>x (Deluxe Edition)</td>\n",
       "      <td>Ed Sheeran</td>\n",
       "      <td>2014-06-21</td>\n",
       "      <td>281560</td>\n",
       "      <td>83</td>\n",
       "      <td>0.47400</td>\n",
       "      <td>0.781</td>\n",
       "      <td>0.445</td>\n",
       "      <td>0.000000</td>\n",
       "      <td>0.1840</td>\n",
       "      <td>-6.061</td>\n",
       "      <td>0.0295</td>\n",
       "      <td>78.998</td>\n",
       "      <td>4</td>\n",
       "    </tr>\n",
       "    <tr>\n",
       "      <th>2</th>\n",
       "      <td>2015</td>\n",
       "      <td>See You Again (feat. Charlie Puth)</td>\n",
       "      <td>See You Again (feat. Charlie Puth)</td>\n",
       "      <td>Wiz Khalifa</td>\n",
       "      <td>2015</td>\n",
       "      <td>229525</td>\n",
       "      <td>82</td>\n",
       "      <td>0.36900</td>\n",
       "      <td>0.689</td>\n",
       "      <td>0.481</td>\n",
       "      <td>0.000001</td>\n",
       "      <td>0.0649</td>\n",
       "      <td>-7.503</td>\n",
       "      <td>0.0815</td>\n",
       "      <td>80.025</td>\n",
       "      <td>4</td>\n",
       "    </tr>\n",
       "  </tbody>\n",
       "</table>\n",
       "</div>"
      ],
      "text/plain": [
       "   Year                               Title  \\\n",
       "0  2015      Uptown Funk (feat. Bruno Mars)   \n",
       "1  2015                   Thinking out Loud   \n",
       "2  2015  See You Again (feat. Charlie Puth)   \n",
       "\n",
       "                                Album       Artist Release_Date Duration  \\\n",
       "0                      Uptown Special  Mark Ronson   2015-01-12   269666   \n",
       "1                  x (Deluxe Edition)   Ed Sheeran   2014-06-21   281560   \n",
       "2  See You Again (feat. Charlie Puth)  Wiz Khalifa         2015   229525   \n",
       "\n",
       "  Popularity  Acousticness  Danceability  Energy  Instrumentalness  Liveness  \\\n",
       "0         83       0.00801         0.856   0.609          0.000082    0.0344   \n",
       "1         83       0.47400         0.781   0.445          0.000000    0.1840   \n",
       "2         82       0.36900         0.689   0.481          0.000001    0.0649   \n",
       "\n",
       "   Loudness  Speechiness    Tempo Time_Signature  \n",
       "0    -7.223       0.0824  114.988              4  \n",
       "1    -6.061       0.0295   78.998              4  \n",
       "2    -7.503       0.0815   80.025              4  "
      ]
     },
     "execution_count": 59,
     "metadata": {},
     "output_type": "execute_result"
    }
   ],
   "source": [
    "    \n",
    "playlist2 = pd.DataFrame(columns = ['Year','Title', 'Album', 'Artist', 'Release_Date', 'Duration', 'Popularity', 'Acousticness',\n",
    "                  'Danceability', 'Energy', 'Instrumentalness', 'Liveness', 'Loudness', 'Speechiness','Tempo', 'Time_Signature'])\n",
    "\n",
    "for year, uri in playlist_spot.items():\n",
    "    time.sleep(.3)\n",
    "    track_list = get_track_id(\"spotify\",uri)\n",
    "    yplaylist = pd.DataFrame(track_list, columns = ['Title', 'Album', 'Artist', 'Release_Date', 'Duration', 'Popularity', 'Acousticness',\n",
    "                  'Danceability', 'Energy', 'Instrumentalness', 'Liveness', 'Loudness', 'Speechiness','Tempo', 'Time_Signature'])\n",
    "    yplaylist['Year'] = year[-4:]\n",
    "    playlist2 = pd.concat([playlist2,yplaylist])\n",
    "\n",
    "playlist2.head(3)"
   ]
  },
  {
   "cell_type": "code",
   "execution_count": null,
   "id": "0eda6eae-9774-4766-972d-6e544e1ee67c",
   "metadata": {},
   "outputs": [],
   "source": [
    "playlist.to_csv('MyTracks.csv')\n",
    "playlist2.to_csv('SpotifyTracks.csv')"
   ]
  },
  {
   "cell_type": "code",
   "execution_count": null,
   "id": "f5f503ee-9c20-4908-80c3-dfde57ecc70e",
   "metadata": {},
   "outputs": [],
   "source": []
  }
 ],
 "metadata": {
  "kernelspec": {
   "display_name": "Python 3 (ipykernel)",
   "language": "python",
   "name": "python3"
  },
  "language_info": {
   "codemirror_mode": {
    "name": "ipython",
    "version": 3
   },
   "file_extension": ".py",
   "mimetype": "text/x-python",
   "name": "python",
   "nbconvert_exporter": "python",
   "pygments_lexer": "ipython3",
   "version": "3.10.6"
  }
 },
 "nbformat": 4,
 "nbformat_minor": 5
}
