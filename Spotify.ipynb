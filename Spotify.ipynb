{
 "cells": [
  {
   "cell_type": "code",
   "execution_count": 1,
   "id": "633646e6-055c-4d9c-a497-2a941103da0b",
   "metadata": {
    "collapsed": true,
    "jupyter": {
     "outputs_hidden": true
    },
    "tags": []
   },
   "outputs": [
    {
     "name": "stdout",
     "output_type": "stream",
     "text": [
      "Collecting spotipy\n",
      "  Downloading spotipy-2.21.0-py3-none-any.whl (28 kB)\n",
      "Requirement already satisfied: requests>=2.25.0 in /opt/homebrew/Cellar/jupyterlab/3.4.7/libexec/lib/python3.10/site-packages (from spotipy) (2.28.1)\n",
      "Requirement already satisfied: six>=1.15.0 in /opt/homebrew/Cellar/six/1.16.0_2/lib/python3.10/site-packages (from spotipy) (1.16.0)\n",
      "Requirement already satisfied: urllib3>=1.26.0 in /opt/homebrew/Cellar/jupyterlab/3.4.7/libexec/lib/python3.10/site-packages (from spotipy) (1.26.12)\n",
      "Collecting redis>=3.5.3\n",
      "  Downloading redis-4.3.5-py3-none-any.whl (248 kB)\n",
      "\u001b[2K     \u001b[90m━━━━━━━━━━━━━━━━━━━━━━━━━━━━━━━━━━━━━━━\u001b[0m \u001b[32m248.7/248.7 kB\u001b[0m \u001b[31m3.2 MB/s\u001b[0m eta \u001b[36m0:00:00\u001b[0ma \u001b[36m0:00:01\u001b[0m\n",
      "\u001b[?25hCollecting async-timeout>=4.0.2\n",
      "  Downloading async_timeout-4.0.2-py3-none-any.whl (5.8 kB)\n",
      "Requirement already satisfied: packaging>=20.4 in /opt/homebrew/Cellar/jupyterlab/3.4.7/libexec/lib/python3.10/site-packages (from redis>=3.5.3->spotipy) (21.3)\n",
      "Requirement already satisfied: charset-normalizer<3,>=2 in /opt/homebrew/Cellar/jupyterlab/3.4.7/libexec/lib/python3.10/site-packages (from requests>=2.25.0->spotipy) (2.1.1)\n",
      "Requirement already satisfied: idna<4,>=2.5 in /opt/homebrew/Cellar/jupyterlab/3.4.7/libexec/lib/python3.10/site-packages (from requests>=2.25.0->spotipy) (3.4)\n",
      "Requirement already satisfied: certifi>=2017.4.17 in /opt/homebrew/Cellar/jupyterlab/3.4.7/libexec/lib/python3.10/site-packages (from requests>=2.25.0->spotipy) (2022.6.15.2)\n",
      "Requirement already satisfied: pyparsing!=3.0.5,>=2.0.2 in /opt/homebrew/Cellar/jupyterlab/3.4.7/libexec/lib/python3.10/site-packages (from packaging>=20.4->redis>=3.5.3->spotipy) (3.0.9)\n",
      "Installing collected packages: async-timeout, redis, spotipy\n",
      "Successfully installed async-timeout-4.0.2 redis-4.3.5 spotipy-2.21.0\n",
      "\n",
      "\u001b[1m[\u001b[0m\u001b[34;49mnotice\u001b[0m\u001b[1;39;49m]\u001b[0m\u001b[39;49m A new release of pip available: \u001b[0m\u001b[31;49m22.2.2\u001b[0m\u001b[39;49m -> \u001b[0m\u001b[32;49m22.3.1\u001b[0m\n",
      "\u001b[1m[\u001b[0m\u001b[34;49mnotice\u001b[0m\u001b[1;39;49m]\u001b[0m\u001b[39;49m To update, run: \u001b[0m\u001b[32;49mpython3.10 -m pip install --upgrade pip\u001b[0m\n",
      "Note: you may need to restart the kernel to use updated packages.\n"
     ]
    }
   ],
   "source": [
    "pip install spotipy"
   ]
  },
  {
   "cell_type": "code",
   "execution_count": 66,
   "id": "4e9c32d6-2a39-4991-a7d5-dfec21a278da",
   "metadata": {},
   "outputs": [],
   "source": [
    "import spotipy, mysecrets,requests,base64,webbrowser,json,time\n",
    "from urllib.parse import urlencode\n",
    "from spotipy.oauth2 import SpotifyClientCredentials \n",
    "import pandas as pd"
   ]
  },
  {
   "cell_type": "code",
   "execution_count": 67,
   "id": "1159e324-64f5-41bb-9b61-0413a49918c6",
   "metadata": {},
   "outputs": [],
   "source": [
    "client_id = mysecrets.client_id\n",
    "client_secret = mysecrets.client_secret\n",
    "\n",
    "auth_headers = {\n",
    "    \"client_id\": client_id,\n",
    "    \"response_type\": \"code\",\n",
    "    \"redirect_uri\": \"http://localhost:7777/callback\",\n",
    "    \"scope\": \"user-library-read\"\n",
    "} "
   ]
  },
  {
   "cell_type": "code",
   "execution_count": 68,
   "id": "d00c72ab-9a50-4d32-894f-9b25550052f1",
   "metadata": {},
   "outputs": [
    {
     "data": {
      "text/plain": [
       "True"
      ]
     },
     "execution_count": 68,
     "metadata": {},
     "output_type": "execute_result"
    }
   ],
   "source": [
    "webbrowser.open(\"https://accounts.spotify.com/authorize?\" + urlencode(auth_headers))"
   ]
  },
  {
   "cell_type": "code",
   "execution_count": 69,
   "id": "ab1ed5ac-ca61-4a50-89aa-97c52be429fa",
   "metadata": {},
   "outputs": [],
   "source": [
    "code = \"AQAeMGz7itZ8_96cpUnpeqCECcbL9om5JDSOSzTtQZ3n8OuVuN4OLDaepkj7-o104sDIFFnHiE4lZp4jAh4o7U7xPTM0V3X4pvHrOl0h7k4QRJ2RLCN4mJSF8HPvzASLTzKdtZLxcStnoRL3EgJb3h7N5j6T6Obg4QuI6AOosOqxvgVSKbN_8HEcdRSxKUyICvNw2cw\""
   ]
  },
  {
   "cell_type": "code",
   "execution_count": 70,
   "id": "0b8128d4-909f-4129-9022-d469eb0a9e62",
   "metadata": {},
   "outputs": [],
   "source": [
    "encoded_credentials = base64.b64encode(client_id.encode() + b':' + client_secret.encode()).decode(\"utf-8\")\n",
    "\n",
    "token_headers = {\n",
    "    \"Authorization\": \"Basic \" + encoded_credentials,\n",
    "    \"Content-Type\": \"application/x-www-form-urlencoded\"\n",
    "}\n",
    "\n",
    "token_data = {\n",
    "    \"grant_type\": \"authorization_code\",\n",
    "    \"code\": code,\n",
    "    \"redirect_uri\": \"http://localhost:7777/callback\"\n",
    "}\n",
    "\n",
    "r = requests.post(\"https://accounts.spotify.com/api/token\", data = token_data, headers = token_headers)"
   ]
  },
  {
   "cell_type": "code",
   "execution_count": 71,
   "id": "1827b27e-56f3-4f25-8459-8239a9409ad1",
   "metadata": {
    "tags": []
   },
   "outputs": [
    {
     "name": "stdout",
     "output_type": "stream",
     "text": [
      "BQAQrFQcqE4u7-qleqPoT0YNu9YoQ-fDeG9M6pVp9gIjXDSRK3Gz1vQqdGyiDovuaJxzvCK3n8rhndoDBLgGmW4xv-P8EHKQfqQze7kVv7JgyHt-51CjRoDqxSVIxy4IItKu1XTe6KCHWsHT97R6SUZgzG2DkDvMSydGizKDoZtQWyDjR13kaScTKBTQkCOK\n"
     ]
    }
   ],
   "source": [
    "token = r.json()[\"access_token\"]\n",
    "\n",
    "print(token)"
   ]
  },
  {
   "cell_type": "code",
   "execution_count": 72,
   "id": "32ec81f0-50d8-4b50-88a8-2bd56cc53542",
   "metadata": {
    "collapsed": true,
    "jupyter": {
     "outputs_hidden": true
    },
    "tags": []
   },
   "outputs": [
    {
     "name": "stdout",
     "output_type": "stream",
     "text": [
      "{'href': 'https://api.spotify.com/v1/me/tracks?offset=0&limit=5', 'items': [{'added_at': '2022-12-05T23:03:36Z', 'track': {'album': {'album_type': 'album', 'artists': [{'external_urls': {'spotify': 'https://open.spotify.com/artist/2RQXRUsr4IW1f3mKyKsy4B'}, 'href': 'https://api.spotify.com/v1/artists/2RQXRUsr4IW1f3mKyKsy4B', 'id': '2RQXRUsr4IW1f3mKyKsy4B', 'name': 'Noah Kahan', 'type': 'artist', 'uri': 'spotify:artist:2RQXRUsr4IW1f3mKyKsy4B'}], 'available_markets': ['AD', 'AE', 'AG', 'AL', 'AM', 'AO', 'AR', 'AT', 'AU', 'AZ', 'BA', 'BB', 'BD', 'BE', 'BF', 'BG', 'BH', 'BI', 'BJ', 'BN', 'BO', 'BR', 'BS', 'BT', 'BW', 'BZ', 'CA', 'CD', 'CG', 'CH', 'CI', 'CL', 'CM', 'CO', 'CR', 'CV', 'CW', 'CY', 'CZ', 'DE', 'DJ', 'DK', 'DM', 'DO', 'DZ', 'EC', 'EE', 'EG', 'ES', 'FI', 'FJ', 'FM', 'FR', 'GA', 'GB', 'GD', 'GE', 'GH', 'GM', 'GN', 'GQ', 'GR', 'GT', 'GW', 'GY', 'HK', 'HN', 'HR', 'HT', 'HU', 'ID', 'IE', 'IL', 'IN', 'IQ', 'IS', 'IT', 'JM', 'JO', 'JP', 'KE', 'KG', 'KH', 'KI', 'KM', 'KN', 'KR', 'KW', 'KZ', 'LA', 'LB', 'LC', 'LI', 'LK', 'LR', 'LS', 'LT', 'LU', 'LV', 'LY', 'MA', 'MC', 'MD', 'ME', 'MG', 'MH', 'MK', 'ML', 'MN', 'MO', 'MR', 'MT', 'MU', 'MV', 'MW', 'MX', 'MY', 'MZ', 'NA', 'NE', 'NG', 'NI', 'NL', 'NO', 'NP', 'NR', 'NZ', 'OM', 'PA', 'PE', 'PG', 'PH', 'PK', 'PL', 'PS', 'PT', 'PW', 'PY', 'QA', 'RO', 'RS', 'RW', 'SA', 'SB', 'SC', 'SE', 'SG', 'SI', 'SK', 'SL', 'SM', 'SN', 'SR', 'ST', 'SV', 'SZ', 'TD', 'TG', 'TH', 'TJ', 'TL', 'TN', 'TO', 'TR', 'TT', 'TV', 'TW', 'TZ', 'UA', 'UG', 'US', 'UY', 'UZ', 'VC', 'VE', 'VN', 'VU', 'WS', 'XK', 'ZA', 'ZM', 'ZW'], 'external_urls': {'spotify': 'https://open.spotify.com/album/50ZenUP4O2Q5eCy2NRNvuz'}, 'href': 'https://api.spotify.com/v1/albums/50ZenUP4O2Q5eCy2NRNvuz', 'id': '50ZenUP4O2Q5eCy2NRNvuz', 'images': [{'height': 640, 'url': 'https://i.scdn.co/image/ab67616d0000b2736ee35072df1af802cca09918', 'width': 640}, {'height': 300, 'url': 'https://i.scdn.co/image/ab67616d00001e026ee35072df1af802cca09918', 'width': 300}, {'height': 64, 'url': 'https://i.scdn.co/image/ab67616d000048516ee35072df1af802cca09918', 'width': 64}], 'name': 'Stick Season', 'release_date': '2022-10-14', 'release_date_precision': 'day', 'total_tracks': 14, 'type': 'album', 'uri': 'spotify:album:50ZenUP4O2Q5eCy2NRNvuz'}, 'artists': [{'external_urls': {'spotify': 'https://open.spotify.com/artist/2RQXRUsr4IW1f3mKyKsy4B'}, 'href': 'https://api.spotify.com/v1/artists/2RQXRUsr4IW1f3mKyKsy4B', 'id': '2RQXRUsr4IW1f3mKyKsy4B', 'name': 'Noah Kahan', 'type': 'artist', 'uri': 'spotify:artist:2RQXRUsr4IW1f3mKyKsy4B'}], 'available_markets': ['AD', 'AE', 'AG', 'AL', 'AM', 'AO', 'AR', 'AT', 'AU', 'AZ', 'BA', 'BB', 'BD', 'BE', 'BF', 'BG', 'BH', 'BI', 'BJ', 'BN', 'BO', 'BR', 'BS', 'BT', 'BW', 'BZ', 'CA', 'CD', 'CG', 'CH', 'CI', 'CL', 'CM', 'CO', 'CR', 'CV', 'CW', 'CY', 'CZ', 'DE', 'DJ', 'DK', 'DM', 'DO', 'DZ', 'EC', 'EE', 'EG', 'ES', 'FI', 'FJ', 'FM', 'FR', 'GA', 'GB', 'GD', 'GE', 'GH', 'GM', 'GN', 'GQ', 'GR', 'GT', 'GW', 'GY', 'HK', 'HN', 'HR', 'HT', 'HU', 'ID', 'IE', 'IL', 'IN', 'IQ', 'IS', 'IT', 'JM', 'JO', 'JP', 'KE', 'KG', 'KH', 'KI', 'KM', 'KN', 'KR', 'KW', 'KZ', 'LA', 'LB', 'LC', 'LI', 'LK', 'LR', 'LS', 'LT', 'LU', 'LV', 'LY', 'MA', 'MC', 'MD', 'ME', 'MG', 'MH', 'MK', 'ML', 'MN', 'MO', 'MR', 'MT', 'MU', 'MV', 'MW', 'MX', 'MY', 'MZ', 'NA', 'NE', 'NG', 'NI', 'NL', 'NO', 'NP', 'NR', 'NZ', 'OM', 'PA', 'PE', 'PG', 'PH', 'PK', 'PL', 'PS', 'PT', 'PW', 'PY', 'QA', 'RO', 'RS', 'RW', 'SA', 'SB', 'SC', 'SE', 'SG', 'SI', 'SK', 'SL', 'SM', 'SN', 'SR', 'ST', 'SV', 'SZ', 'TD', 'TG', 'TH', 'TJ', 'TL', 'TN', 'TO', 'TR', 'TT', 'TV', 'TW', 'TZ', 'UA', 'UG', 'US', 'UY', 'UZ', 'VC', 'VE', 'VN', 'VU', 'WS', 'XK', 'ZA', 'ZM', 'ZW'], 'disc_number': 1, 'duration_ms': 194416, 'explicit': True, 'external_ids': {'isrc': 'USUM72217180'}, 'external_urls': {'spotify': 'https://open.spotify.com/track/0jkzxxDG8z3Y5OmfNl1VM0'}, 'href': 'https://api.spotify.com/v1/tracks/0jkzxxDG8z3Y5OmfNl1VM0', 'id': '0jkzxxDG8z3Y5OmfNl1VM0', 'is_local': False, 'name': 'Homesick', 'popularity': 73, 'preview_url': 'https://p.scdn.co/mp3-preview/1514364c0f5e4f5194b36404053869735fe64e71?cid=d66d5588b18142ebaf1c9c9f2148fbea', 'track_number': 12, 'type': 'track', 'uri': 'spotify:track:0jkzxxDG8z3Y5OmfNl1VM0'}}, {'added_at': '2022-12-05T21:42:07Z', 'track': {'album': {'album_type': 'album', 'artists': [{'external_urls': {'spotify': 'https://open.spotify.com/artist/2RQXRUsr4IW1f3mKyKsy4B'}, 'href': 'https://api.spotify.com/v1/artists/2RQXRUsr4IW1f3mKyKsy4B', 'id': '2RQXRUsr4IW1f3mKyKsy4B', 'name': 'Noah Kahan', 'type': 'artist', 'uri': 'spotify:artist:2RQXRUsr4IW1f3mKyKsy4B'}], 'available_markets': ['AD', 'AE', 'AG', 'AL', 'AM', 'AO', 'AR', 'AT', 'AU', 'AZ', 'BA', 'BB', 'BD', 'BE', 'BF', 'BG', 'BH', 'BI', 'BJ', 'BN', 'BO', 'BR', 'BS', 'BT', 'BW', 'BZ', 'CA', 'CD', 'CG', 'CH', 'CI', 'CL', 'CM', 'CO', 'CR', 'CV', 'CW', 'CY', 'CZ', 'DE', 'DJ', 'DK', 'DM', 'DO', 'DZ', 'EC', 'EE', 'EG', 'ES', 'FI', 'FJ', 'FM', 'FR', 'GA', 'GB', 'GD', 'GE', 'GH', 'GM', 'GN', 'GQ', 'GR', 'GT', 'GW', 'GY', 'HK', 'HN', 'HR', 'HT', 'HU', 'ID', 'IE', 'IL', 'IN', 'IQ', 'IS', 'IT', 'JM', 'JO', 'JP', 'KE', 'KG', 'KH', 'KI', 'KM', 'KN', 'KR', 'KW', 'KZ', 'LA', 'LB', 'LC', 'LI', 'LK', 'LR', 'LS', 'LT', 'LU', 'LV', 'LY', 'MA', 'MC', 'MD', 'ME', 'MG', 'MH', 'MK', 'ML', 'MN', 'MO', 'MR', 'MT', 'MU', 'MV', 'MW', 'MX', 'MY', 'MZ', 'NA', 'NE', 'NG', 'NI', 'NL', 'NO', 'NP', 'NR', 'NZ', 'OM', 'PA', 'PE', 'PG', 'PH', 'PK', 'PL', 'PS', 'PT', 'PW', 'PY', 'QA', 'RO', 'RS', 'RW', 'SA', 'SB', 'SC', 'SE', 'SG', 'SI', 'SK', 'SL', 'SM', 'SN', 'SR', 'ST', 'SV', 'SZ', 'TD', 'TG', 'TH', 'TJ', 'TL', 'TN', 'TO', 'TR', 'TT', 'TV', 'TW', 'TZ', 'UA', 'UG', 'US', 'UY', 'UZ', 'VC', 'VE', 'VN', 'VU', 'WS', 'XK', 'ZA', 'ZM', 'ZW'], 'external_urls': {'spotify': 'https://open.spotify.com/album/50ZenUP4O2Q5eCy2NRNvuz'}, 'href': 'https://api.spotify.com/v1/albums/50ZenUP4O2Q5eCy2NRNvuz', 'id': '50ZenUP4O2Q5eCy2NRNvuz', 'images': [{'height': 640, 'url': 'https://i.scdn.co/image/ab67616d0000b2736ee35072df1af802cca09918', 'width': 640}, {'height': 300, 'url': 'https://i.scdn.co/image/ab67616d00001e026ee35072df1af802cca09918', 'width': 300}, {'height': 64, 'url': 'https://i.scdn.co/image/ab67616d000048516ee35072df1af802cca09918', 'width': 64}], 'name': 'Stick Season', 'release_date': '2022-10-14', 'release_date_precision': 'day', 'total_tracks': 14, 'type': 'album', 'uri': 'spotify:album:50ZenUP4O2Q5eCy2NRNvuz'}, 'artists': [{'external_urls': {'spotify': 'https://open.spotify.com/artist/2RQXRUsr4IW1f3mKyKsy4B'}, 'href': 'https://api.spotify.com/v1/artists/2RQXRUsr4IW1f3mKyKsy4B', 'id': '2RQXRUsr4IW1f3mKyKsy4B', 'name': 'Noah Kahan', 'type': 'artist', 'uri': 'spotify:artist:2RQXRUsr4IW1f3mKyKsy4B'}], 'available_markets': ['AD', 'AE', 'AG', 'AL', 'AM', 'AO', 'AR', 'AT', 'AU', 'AZ', 'BA', 'BB', 'BD', 'BE', 'BF', 'BG', 'BH', 'BI', 'BJ', 'BN', 'BO', 'BR', 'BS', 'BT', 'BW', 'BZ', 'CA', 'CD', 'CG', 'CH', 'CI', 'CL', 'CM', 'CO', 'CR', 'CV', 'CW', 'CY', 'CZ', 'DE', 'DJ', 'DK', 'DM', 'DO', 'DZ', 'EC', 'EE', 'EG', 'ES', 'FI', 'FJ', 'FM', 'FR', 'GA', 'GB', 'GD', 'GE', 'GH', 'GM', 'GN', 'GQ', 'GR', 'GT', 'GW', 'GY', 'HK', 'HN', 'HR', 'HT', 'HU', 'ID', 'IE', 'IL', 'IN', 'IQ', 'IS', 'IT', 'JM', 'JO', 'JP', 'KE', 'KG', 'KH', 'KI', 'KM', 'KN', 'KR', 'KW', 'KZ', 'LA', 'LB', 'LC', 'LI', 'LK', 'LR', 'LS', 'LT', 'LU', 'LV', 'LY', 'MA', 'MC', 'MD', 'ME', 'MG', 'MH', 'MK', 'ML', 'MN', 'MO', 'MR', 'MT', 'MU', 'MV', 'MW', 'MX', 'MY', 'MZ', 'NA', 'NE', 'NG', 'NI', 'NL', 'NO', 'NP', 'NR', 'NZ', 'OM', 'PA', 'PE', 'PG', 'PH', 'PK', 'PL', 'PS', 'PT', 'PW', 'PY', 'QA', 'RO', 'RS', 'RW', 'SA', 'SB', 'SC', 'SE', 'SG', 'SI', 'SK', 'SL', 'SM', 'SN', 'SR', 'ST', 'SV', 'SZ', 'TD', 'TG', 'TH', 'TJ', 'TL', 'TN', 'TO', 'TR', 'TT', 'TV', 'TW', 'TZ', 'UA', 'UG', 'US', 'UY', 'UZ', 'VC', 'VE', 'VN', 'VU', 'WS', 'XK', 'ZA', 'ZM', 'ZW'], 'disc_number': 1, 'duration_ms': 267256, 'explicit': True, 'external_ids': {'isrc': 'USUM72217167'}, 'external_urls': {'spotify': 'https://open.spotify.com/track/4O2rRsoSPb5aN7N3tG6Y3v'}, 'href': 'https://api.spotify.com/v1/tracks/4O2rRsoSPb5aN7N3tG6Y3v', 'id': '4O2rRsoSPb5aN7N3tG6Y3v', 'is_local': False, 'name': 'Northern Attitude', 'popularity': 72, 'preview_url': 'https://p.scdn.co/mp3-preview/0c7a6f8acbc8297d946a813694d0af73578f456e?cid=d66d5588b18142ebaf1c9c9f2148fbea', 'track_number': 1, 'type': 'track', 'uri': 'spotify:track:4O2rRsoSPb5aN7N3tG6Y3v'}}, {'added_at': '2022-12-01T04:22:23Z', 'track': {'album': {'album_type': 'album', 'artists': [{'external_urls': {'spotify': 'https://open.spotify.com/artist/1htYtUdXVMwR6HCSs821Lc'}, 'href': 'https://api.spotify.com/v1/artists/1htYtUdXVMwR6HCSs821Lc', 'id': '1htYtUdXVMwR6HCSs821Lc', 'name': 'Avenue Beat', 'type': 'artist', 'uri': 'spotify:artist:1htYtUdXVMwR6HCSs821Lc'}], 'available_markets': ['AD', 'AE', 'AG', 'AL', 'AM', 'AO', 'AR', 'AT', 'AU', 'AZ', 'BA', 'BB', 'BD', 'BE', 'BF', 'BG', 'BH', 'BI', 'BJ', 'BN', 'BO', 'BR', 'BS', 'BT', 'BW', 'BY', 'BZ', 'CA', 'CD', 'CG', 'CH', 'CI', 'CL', 'CM', 'CO', 'CR', 'CV', 'CW', 'CY', 'CZ', 'DE', 'DJ', 'DK', 'DM', 'DO', 'DZ', 'EC', 'EE', 'EG', 'ES', 'FI', 'FJ', 'FM', 'FR', 'GA', 'GB', 'GD', 'GE', 'GH', 'GM', 'GN', 'GQ', 'GR', 'GT', 'GW', 'GY', 'HK', 'HN', 'HR', 'HT', 'HU', 'ID', 'IE', 'IL', 'IN', 'IQ', 'IS', 'IT', 'JM', 'JO', 'JP', 'KE', 'KG', 'KH', 'KI', 'KM', 'KN', 'KR', 'KW', 'KZ', 'LA', 'LB', 'LC', 'LI', 'LK', 'LR', 'LS', 'LT', 'LU', 'LV', 'LY', 'MA', 'MC', 'MD', 'ME', 'MG', 'MH', 'MK', 'ML', 'MN', 'MO', 'MR', 'MT', 'MU', 'MV', 'MW', 'MX', 'MY', 'MZ', 'NA', 'NE', 'NG', 'NI', 'NL', 'NO', 'NP', 'NR', 'NZ', 'OM', 'PA', 'PE', 'PG', 'PH', 'PK', 'PL', 'PS', 'PT', 'PW', 'PY', 'QA', 'RO', 'RS', 'RW', 'SA', 'SB', 'SC', 'SE', 'SG', 'SI', 'SK', 'SL', 'SM', 'SN', 'SR', 'ST', 'SV', 'SZ', 'TD', 'TG', 'TH', 'TJ', 'TL', 'TN', 'TO', 'TR', 'TT', 'TV', 'TW', 'TZ', 'UA', 'UG', 'US', 'UY', 'UZ', 'VC', 'VE', 'VN', 'VU', 'WS', 'XK', 'ZA', 'ZM', 'ZW'], 'external_urls': {'spotify': 'https://open.spotify.com/album/3iWRmRghXrGibQlzqNkbLQ'}, 'href': 'https://api.spotify.com/v1/albums/3iWRmRghXrGibQlzqNkbLQ', 'id': '3iWRmRghXrGibQlzqNkbLQ', 'images': [{'height': 640, 'url': 'https://i.scdn.co/image/ab67616d0000b273774dd68b565615a718314183', 'width': 640}, {'height': 300, 'url': 'https://i.scdn.co/image/ab67616d00001e02774dd68b565615a718314183', 'width': 300}, {'height': 64, 'url': 'https://i.scdn.co/image/ab67616d00004851774dd68b565615a718314183', 'width': 64}], 'name': 'the debut farewell album', 'release_date': '2021-10-15', 'release_date_precision': 'day', 'total_tracks': 12, 'type': 'album', 'uri': 'spotify:album:3iWRmRghXrGibQlzqNkbLQ'}, 'artists': [{'external_urls': {'spotify': 'https://open.spotify.com/artist/1htYtUdXVMwR6HCSs821Lc'}, 'href': 'https://api.spotify.com/v1/artists/1htYtUdXVMwR6HCSs821Lc', 'id': '1htYtUdXVMwR6HCSs821Lc', 'name': 'Avenue Beat', 'type': 'artist', 'uri': 'spotify:artist:1htYtUdXVMwR6HCSs821Lc'}], 'available_markets': ['AD', 'AE', 'AG', 'AL', 'AM', 'AO', 'AR', 'AT', 'AU', 'AZ', 'BA', 'BB', 'BD', 'BE', 'BF', 'BG', 'BH', 'BI', 'BJ', 'BN', 'BO', 'BR', 'BS', 'BT', 'BW', 'BY', 'BZ', 'CA', 'CD', 'CG', 'CH', 'CI', 'CL', 'CM', 'CO', 'CR', 'CV', 'CW', 'CY', 'CZ', 'DE', 'DJ', 'DK', 'DM', 'DO', 'DZ', 'EC', 'EE', 'EG', 'ES', 'FI', 'FJ', 'FM', 'FR', 'GA', 'GB', 'GD', 'GE', 'GH', 'GM', 'GN', 'GQ', 'GR', 'GT', 'GW', 'GY', 'HK', 'HN', 'HR', 'HT', 'HU', 'ID', 'IE', 'IL', 'IN', 'IQ', 'IS', 'IT', 'JM', 'JO', 'JP', 'KE', 'KG', 'KH', 'KI', 'KM', 'KN', 'KR', 'KW', 'KZ', 'LA', 'LB', 'LC', 'LI', 'LK', 'LR', 'LS', 'LT', 'LU', 'LV', 'LY', 'MA', 'MC', 'MD', 'ME', 'MG', 'MH', 'MK', 'ML', 'MN', 'MO', 'MR', 'MT', 'MU', 'MV', 'MW', 'MX', 'MY', 'MZ', 'NA', 'NE', 'NG', 'NI', 'NL', 'NO', 'NP', 'NR', 'NZ', 'OM', 'PA', 'PE', 'PG', 'PH', 'PK', 'PL', 'PS', 'PT', 'PW', 'PY', 'QA', 'RO', 'RS', 'RW', 'SA', 'SB', 'SC', 'SE', 'SG', 'SI', 'SK', 'SL', 'SM', 'SN', 'SR', 'ST', 'SV', 'SZ', 'TD', 'TG', 'TH', 'TJ', 'TL', 'TN', 'TO', 'TR', 'TT', 'TV', 'TW', 'TZ', 'UA', 'UG', 'US', 'UY', 'UZ', 'VC', 'VE', 'VN', 'VU', 'WS', 'XK', 'ZA', 'ZM', 'ZW'], 'disc_number': 1, 'duration_ms': 142149, 'explicit': True, 'external_ids': {'isrc': 'QZRD92100540'}, 'external_urls': {'spotify': 'https://open.spotify.com/track/3vUXZ0PFgUFo6LtmhPRMrg'}, 'href': 'https://api.spotify.com/v1/tracks/3vUXZ0PFgUFo6LtmhPRMrg', 'id': '3vUXZ0PFgUFo6LtmhPRMrg', 'is_local': False, 'name': 'space for you', 'popularity': 53, 'preview_url': 'https://p.scdn.co/mp3-preview/4cbf061962b4e87db9fa475adba785e1a73c6579?cid=d66d5588b18142ebaf1c9c9f2148fbea', 'track_number': 6, 'type': 'track', 'uri': 'spotify:track:3vUXZ0PFgUFo6LtmhPRMrg'}}, {'added_at': '2022-12-01T04:05:10Z', 'track': {'album': {'album_type': 'single', 'artists': [{'external_urls': {'spotify': 'https://open.spotify.com/artist/0ekCwZGQUkAISV1h48jlHn'}, 'href': 'https://api.spotify.com/v1/artists/0ekCwZGQUkAISV1h48jlHn', 'id': '0ekCwZGQUkAISV1h48jlHn', 'name': 'Rachel Grae', 'type': 'artist', 'uri': 'spotify:artist:0ekCwZGQUkAISV1h48jlHn'}], 'available_markets': ['AD', 'AE', 'AG', 'AL', 'AM', 'AO', 'AR', 'AT', 'AU', 'AZ', 'BA', 'BB', 'BD', 'BE', 'BF', 'BG', 'BH', 'BI', 'BJ', 'BN', 'BO', 'BR', 'BS', 'BT', 'BW', 'BY', 'BZ', 'CA', 'CD', 'CG', 'CH', 'CI', 'CL', 'CM', 'CO', 'CR', 'CV', 'CW', 'CY', 'CZ', 'DE', 'DJ', 'DK', 'DM', 'DO', 'DZ', 'EC', 'EE', 'EG', 'ES', 'FI', 'FJ', 'FM', 'FR', 'GA', 'GB', 'GD', 'GE', 'GH', 'GM', 'GN', 'GQ', 'GR', 'GT', 'GW', 'GY', 'HK', 'HN', 'HR', 'HT', 'HU', 'ID', 'IE', 'IL', 'IN', 'IQ', 'IS', 'IT', 'JM', 'JO', 'JP', 'KE', 'KG', 'KH', 'KI', 'KM', 'KN', 'KR', 'KW', 'KZ', 'LA', 'LB', 'LC', 'LI', 'LK', 'LR', 'LS', 'LT', 'LU', 'LV', 'LY', 'MA', 'MC', 'MD', 'ME', 'MG', 'MH', 'MK', 'ML', 'MN', 'MO', 'MR', 'MT', 'MU', 'MV', 'MW', 'MX', 'MY', 'MZ', 'NA', 'NE', 'NG', 'NI', 'NL', 'NO', 'NP', 'NR', 'NZ', 'OM', 'PA', 'PE', 'PG', 'PH', 'PK', 'PL', 'PS', 'PT', 'PW', 'PY', 'QA', 'RO', 'RS', 'RW', 'SA', 'SB', 'SC', 'SE', 'SG', 'SI', 'SK', 'SL', 'SM', 'SN', 'SR', 'ST', 'SV', 'SZ', 'TD', 'TG', 'TH', 'TJ', 'TL', 'TN', 'TO', 'TR', 'TT', 'TV', 'TW', 'TZ', 'UA', 'UG', 'US', 'UY', 'UZ', 'VC', 'VE', 'VN', 'VU', 'WS', 'XK', 'ZA', 'ZM', 'ZW'], 'external_urls': {'spotify': 'https://open.spotify.com/album/3GuRpaxb7Yymcp4MCJqB5b'}, 'href': 'https://api.spotify.com/v1/albums/3GuRpaxb7Yymcp4MCJqB5b', 'id': '3GuRpaxb7Yymcp4MCJqB5b', 'images': [{'height': 640, 'url': 'https://i.scdn.co/image/ab67616d0000b273be8b1eda6100c7d546832ed4', 'width': 640}, {'height': 300, 'url': 'https://i.scdn.co/image/ab67616d00001e02be8b1eda6100c7d546832ed4', 'width': 300}, {'height': 64, 'url': 'https://i.scdn.co/image/ab67616d00004851be8b1eda6100c7d546832ed4', 'width': 64}], 'name': 'How to Be Alone', 'release_date': '2022-03-04', 'release_date_precision': 'day', 'total_tracks': 1, 'type': 'album', 'uri': 'spotify:album:3GuRpaxb7Yymcp4MCJqB5b'}, 'artists': [{'external_urls': {'spotify': 'https://open.spotify.com/artist/0ekCwZGQUkAISV1h48jlHn'}, 'href': 'https://api.spotify.com/v1/artists/0ekCwZGQUkAISV1h48jlHn', 'id': '0ekCwZGQUkAISV1h48jlHn', 'name': 'Rachel Grae', 'type': 'artist', 'uri': 'spotify:artist:0ekCwZGQUkAISV1h48jlHn'}], 'available_markets': ['AD', 'AE', 'AG', 'AL', 'AM', 'AO', 'AR', 'AT', 'AU', 'AZ', 'BA', 'BB', 'BD', 'BE', 'BF', 'BG', 'BH', 'BI', 'BJ', 'BN', 'BO', 'BR', 'BS', 'BT', 'BW', 'BY', 'BZ', 'CA', 'CD', 'CG', 'CH', 'CI', 'CL', 'CM', 'CO', 'CR', 'CV', 'CW', 'CY', 'CZ', 'DE', 'DJ', 'DK', 'DM', 'DO', 'DZ', 'EC', 'EE', 'EG', 'ES', 'FI', 'FJ', 'FM', 'FR', 'GA', 'GB', 'GD', 'GE', 'GH', 'GM', 'GN', 'GQ', 'GR', 'GT', 'GW', 'GY', 'HK', 'HN', 'HR', 'HT', 'HU', 'ID', 'IE', 'IL', 'IN', 'IQ', 'IS', 'IT', 'JM', 'JO', 'JP', 'KE', 'KG', 'KH', 'KI', 'KM', 'KN', 'KR', 'KW', 'KZ', 'LA', 'LB', 'LC', 'LI', 'LK', 'LR', 'LS', 'LT', 'LU', 'LV', 'LY', 'MA', 'MC', 'MD', 'ME', 'MG', 'MH', 'MK', 'ML', 'MN', 'MO', 'MR', 'MT', 'MU', 'MV', 'MW', 'MX', 'MY', 'MZ', 'NA', 'NE', 'NG', 'NI', 'NL', 'NO', 'NP', 'NR', 'NZ', 'OM', 'PA', 'PE', 'PG', 'PH', 'PK', 'PL', 'PS', 'PT', 'PW', 'PY', 'QA', 'RO', 'RS', 'RW', 'SA', 'SB', 'SC', 'SE', 'SG', 'SI', 'SK', 'SL', 'SM', 'SN', 'SR', 'ST', 'SV', 'SZ', 'TD', 'TG', 'TH', 'TJ', 'TL', 'TN', 'TO', 'TR', 'TT', 'TV', 'TW', 'TZ', 'UA', 'UG', 'US', 'UY', 'UZ', 'VC', 'VE', 'VN', 'VU', 'WS', 'XK', 'ZA', 'ZM', 'ZW'], 'disc_number': 1, 'duration_ms': 151077, 'explicit': False, 'external_ids': {'isrc': 'QM24S2200675'}, 'external_urls': {'spotify': 'https://open.spotify.com/track/7uiarj8x1BdaXYYvcI6anV'}, 'href': 'https://api.spotify.com/v1/tracks/7uiarj8x1BdaXYYvcI6anV', 'id': '7uiarj8x1BdaXYYvcI6anV', 'is_local': False, 'name': 'How to Be Alone', 'popularity': 59, 'preview_url': 'https://p.scdn.co/mp3-preview/2bbb77c26182d52183849164538de8d326c3aa34?cid=d66d5588b18142ebaf1c9c9f2148fbea', 'track_number': 1, 'type': 'track', 'uri': 'spotify:track:7uiarj8x1BdaXYYvcI6anV'}}, {'added_at': '2022-12-01T03:57:02Z', 'track': {'album': {'album_type': 'single', 'artists': [{'external_urls': {'spotify': 'https://open.spotify.com/artist/74KM79TiuVKeVCqs8QtB0B'}, 'href': 'https://api.spotify.com/v1/artists/74KM79TiuVKeVCqs8QtB0B', 'id': '74KM79TiuVKeVCqs8QtB0B', 'name': 'Sabrina Carpenter', 'type': 'artist', 'uri': 'spotify:artist:74KM79TiuVKeVCqs8QtB0B'}], 'available_markets': ['AD', 'AE', 'AG', 'AL', 'AM', 'AO', 'AR', 'AT', 'AU', 'AZ', 'BA', 'BB', 'BD', 'BE', 'BF', 'BG', 'BH', 'BI', 'BJ', 'BN', 'BO', 'BR', 'BS', 'BT', 'BW', 'BZ', 'CA', 'CD', 'CG', 'CH', 'CI', 'CL', 'CM', 'CO', 'CR', 'CV', 'CW', 'CY', 'CZ', 'DE', 'DJ', 'DK', 'DM', 'DO', 'DZ', 'EC', 'EE', 'EG', 'ES', 'FI', 'FJ', 'FM', 'FR', 'GA', 'GB', 'GD', 'GE', 'GH', 'GM', 'GN', 'GQ', 'GR', 'GT', 'GW', 'GY', 'HK', 'HN', 'HR', 'HT', 'HU', 'ID', 'IE', 'IL', 'IN', 'IQ', 'IS', 'IT', 'JM', 'JO', 'JP', 'KE', 'KG', 'KH', 'KI', 'KM', 'KN', 'KR', 'KW', 'KZ', 'LA', 'LB', 'LC', 'LI', 'LK', 'LR', 'LS', 'LT', 'LU', 'LV', 'LY', 'MA', 'MC', 'MD', 'ME', 'MG', 'MH', 'MK', 'ML', 'MN', 'MO', 'MR', 'MT', 'MU', 'MV', 'MW', 'MX', 'MY', 'MZ', 'NA', 'NE', 'NG', 'NI', 'NL', 'NO', 'NP', 'NR', 'NZ', 'OM', 'PA', 'PE', 'PG', 'PH', 'PK', 'PL', 'PS', 'PT', 'PW', 'PY', 'QA', 'RO', 'RS', 'RW', 'SA', 'SB', 'SC', 'SE', 'SG', 'SI', 'SK', 'SL', 'SM', 'SN', 'SR', 'ST', 'SV', 'SZ', 'TD', 'TG', 'TH', 'TJ', 'TL', 'TN', 'TO', 'TR', 'TT', 'TV', 'TW', 'TZ', 'UA', 'UG', 'US', 'UY', 'UZ', 'VC', 'VE', 'VN', 'VU', 'WS', 'XK', 'ZA', 'ZM', 'ZW'], 'external_urls': {'spotify': 'https://open.spotify.com/album/23eBqMqUmcb1wcxuXfYw6k'}, 'href': 'https://api.spotify.com/v1/albums/23eBqMqUmcb1wcxuXfYw6k', 'id': '23eBqMqUmcb1wcxuXfYw6k', 'images': [{'height': 640, 'url': 'https://i.scdn.co/image/ab67616d0000b2730ca159590dfc7c67590bfe22', 'width': 640}, {'height': 300, 'url': 'https://i.scdn.co/image/ab67616d00001e020ca159590dfc7c67590bfe22', 'width': 300}, {'height': 64, 'url': 'https://i.scdn.co/image/ab67616d000048510ca159590dfc7c67590bfe22', 'width': 64}], 'name': 'Nonsense (Sped Up Version)', 'release_date': '2022-11-14', 'release_date_precision': 'day', 'total_tracks': 2, 'type': 'album', 'uri': 'spotify:album:23eBqMqUmcb1wcxuXfYw6k'}, 'artists': [{'external_urls': {'spotify': 'https://open.spotify.com/artist/74KM79TiuVKeVCqs8QtB0B'}, 'href': 'https://api.spotify.com/v1/artists/74KM79TiuVKeVCqs8QtB0B', 'id': '74KM79TiuVKeVCqs8QtB0B', 'name': 'Sabrina Carpenter', 'type': 'artist', 'uri': 'spotify:artist:74KM79TiuVKeVCqs8QtB0B'}], 'available_markets': ['AD', 'AE', 'AG', 'AL', 'AM', 'AO', 'AR', 'AT', 'AU', 'AZ', 'BA', 'BB', 'BD', 'BE', 'BF', 'BG', 'BH', 'BI', 'BJ', 'BN', 'BO', 'BR', 'BS', 'BT', 'BW', 'BZ', 'CA', 'CD', 'CG', 'CH', 'CI', 'CL', 'CM', 'CO', 'CR', 'CV', 'CW', 'CY', 'CZ', 'DE', 'DJ', 'DK', 'DM', 'DO', 'DZ', 'EC', 'EE', 'EG', 'ES', 'FI', 'FJ', 'FM', 'FR', 'GA', 'GB', 'GD', 'GE', 'GH', 'GM', 'GN', 'GQ', 'GR', 'GT', 'GW', 'GY', 'HK', 'HN', 'HR', 'HT', 'HU', 'ID', 'IE', 'IL', 'IN', 'IQ', 'IS', 'IT', 'JM', 'JO', 'JP', 'KE', 'KG', 'KH', 'KI', 'KM', 'KN', 'KR', 'KW', 'KZ', 'LA', 'LB', 'LC', 'LI', 'LK', 'LR', 'LS', 'LT', 'LU', 'LV', 'LY', 'MA', 'MC', 'MD', 'ME', 'MG', 'MH', 'MK', 'ML', 'MN', 'MO', 'MR', 'MT', 'MU', 'MV', 'MW', 'MX', 'MY', 'MZ', 'NA', 'NE', 'NG', 'NI', 'NL', 'NO', 'NP', 'NR', 'NZ', 'OM', 'PA', 'PE', 'PG', 'PH', 'PK', 'PL', 'PS', 'PT', 'PW', 'PY', 'QA', 'RO', 'RS', 'RW', 'SA', 'SB', 'SC', 'SE', 'SG', 'SI', 'SK', 'SL', 'SM', 'SN', 'SR', 'ST', 'SV', 'SZ', 'TD', 'TG', 'TH', 'TJ', 'TL', 'TN', 'TO', 'TR', 'TT', 'TV', 'TW', 'TZ', 'UA', 'UG', 'US', 'UY', 'UZ', 'VC', 'VE', 'VN', 'VU', 'WS', 'XK', 'ZA', 'ZM', 'ZW'], 'disc_number': 1, 'duration_ms': 137514, 'explicit': False, 'external_ids': {'isrc': 'USUM72220833'}, 'external_urls': {'spotify': 'https://open.spotify.com/track/5KeI897tZgjezHKvxlaOaR'}, 'href': 'https://api.spotify.com/v1/tracks/5KeI897tZgjezHKvxlaOaR', 'id': '5KeI897tZgjezHKvxlaOaR', 'is_local': False, 'name': 'Nonsense - Sped Up Version', 'popularity': 64, 'preview_url': 'https://p.scdn.co/mp3-preview/d15f53eccc4f3b56527c2a70e3ae085e2955a26c?cid=d66d5588b18142ebaf1c9c9f2148fbea', 'track_number': 2, 'type': 'track', 'uri': 'spotify:track:5KeI897tZgjezHKvxlaOaR'}}], 'limit': 5, 'next': 'https://api.spotify.com/v1/me/tracks?offset=5&limit=5', 'offset': 0, 'previous': None, 'total': 899}\n"
     ]
    }
   ],
   "source": [
    "user_headers = { \"Authorization\": \"Bearer \" + token, \"Content-Type\": \"application/json\" }\n",
    "user_params = {\"limit\": 5}\n",
    "\n",
    "user_tracks_response = requests.get(\"https://api.spotify.com/v1/me/tracks\", params=user_params, headers=user_headers)\n",
    "\n",
    "print(user_tracks_response.json())"
   ]
  },
  {
   "cell_type": "code",
   "execution_count": 74,
   "id": "ef0b64f2-1f4d-4295-912c-be9ee27338a4",
   "metadata": {},
   "outputs": [],
   "source": [
    "client_credentials_manager = SpotifyClientCredentials(client_id=client_id, client_secret=client_secret)\n",
    "sp = spotipy.Spotify(client_credentials_manager=client_credentials_manager) "
   ]
  },
  {
   "cell_type": "code",
   "execution_count": 75,
   "id": "c20bd908-8c7f-4e20-8749-d4b45e07a3fe",
   "metadata": {},
   "outputs": [],
   "source": [
    "playlist_uri = {\n",
    " \"mp2015\" : \"7eBMr6C6GgyUdphppfsHGG\",\n",
    " \"mp2016\" : \"5s30jHYXIa8pqpZ5llc8UW\",\n",
    " \"mp2017\" : \"0y3DRV98utNLVxPkFUHr60\",\n",
    " \"mp2018\" : \"4oICEU7lJwh5B1bi11Fl81\",\n",
    " \"mp2019\" : \"0A6Mf0tkJTZyvoMBq29dzP\",\n",
    " \"mp2020\" : \"1LNWFkUgYkCcqhjl1zArEJ\",\n",
    " \"mp2021\" : \"2my6pETpT9mbvgUmbbE123\",\n",
    " \"mp2022\" : \"08hpQsg5CMFiO8zngrxBwm\"\n",
    "}"
   ]
  },
  {
   "cell_type": "code",
   "execution_count": 142,
   "id": "4896c18f-0b28-4c61-871e-ca69465ef246",
   "metadata": {},
   "outputs": [],
   "source": [
    "#extracting track ids\n",
    "\n",
    "def get_track_id(user,playlist_id):\n",
    "    track_id = []\n",
    "    playlist = sp.user_playlist(user,playlist_id)\n",
    "    for item in playlist['tracks']['items']:\n",
    "        track = item['track']\n",
    "        track_id.append(track['id'])\n",
    "    return track_id"
   ]
  },
  {
   "cell_type": "code",
   "execution_count": 143,
   "id": "4d86938a-3d96-495d-a9b7-3d592f02afc0",
   "metadata": {
    "tags": []
   },
   "outputs": [],
   "source": [
    "p2015 = get_track_id(\"spotify\",\"7eBMr6C6GgyUdphppfsHGG\")\n",
    "p2016 = get_track_id(\"spotify\",\"5s30jHYXIa8pqpZ5llc8UW\")\n",
    "p2017 = get_track_id(\"spotify\",\"0y3DRV98utNLVxPkFUHr60\")\n",
    "p2018 = get_track_id(\"spotify\",\"4oICEU7lJwh5B1bi11Fl81\")\n",
    "p2019 = get_track_id(\"spotify\",\"0A6Mf0tkJTZyvoMBq29dzP\")\n",
    "p2020 = get_track_id(\"spotify\",\"1LNWFkUgYkCcqhjl1zArEJ\")\n",
    "p2021 = get_track_id(\"spotify\",\"2my6pETpT9mbvgUmbbE123\")\n",
    "p2022 = get_track_id(\"spotify\",\"08hpQsg5CMFiO8zngrxBwm\")"
   ]
  },
  {
   "cell_type": "code",
   "execution_count": 139,
   "id": "ceacce5d-3e0d-4d2e-962f-789cdaf81dcb",
   "metadata": {
    "collapsed": true,
    "jupyter": {
     "outputs_hidden": true
    },
    "tags": []
   },
   "outputs": [
    {
     "name": "stdout",
     "output_type": "stream",
     "text": [
      "46\n"
     ]
    }
   ],
   "source": [
    "print(len(p2015))"
   ]
  },
  {
   "cell_type": "code",
   "execution_count": 140,
   "id": "4fa2e598-61bb-4393-9a09-85ab930bcfeb",
   "metadata": {
    "collapsed": true,
    "jupyter": {
     "outputs_hidden": true
    },
    "tags": []
   },
   "outputs": [
    {
     "name": "stdout",
     "output_type": "stream",
     "text": [
      "['5NQbUaeTEOGdD6hHcre0dZ', '4KcVVhAaHxqtX2ANt4b3tc', '3twQx3psUMJKj4wna5d1zU', '66hayvUbTotekKU3H4ta1f', '7zpZQzTwWBN0eOsmb4WPH3', '2HNcNd5RPZ7DSRNbIl6JsP', '0fgZUSa7D7aVvv3GfO0A1n', '6nRwc5GgNvBMkKaynhQzrm', '1zxFtsKWwuVpz3nSqNYshe', '6kBp8w67thoYqTUOQVSGFg', '6FXNfYIY6iEeCKuIeSYWgg', '7wqSzGeodspE3V6RBD5W8L', '6bRbeEgg8v8BQ0HuVuPE7v', '1KK0j3djUgx5tuOMwesdAT', '3icbmPGKTsKAa0IinkizCM', '4kbj5MwxO1bq9wjT5g9HaA', '3G7XYAwtxtoGK7fAm4IlD9', '28YLWwEB6xnJQYN7e062rH', '66UVpCZ5aH3VV3Ic3PBUrP', '4qABfS1RaGVXdBhj2BQyhO', '13HVjjWUZFaWilh2QUJKsP', '72Bz4ciRZPBcVSw0nrZDHi', '7t5m6zRwIEBxmPt8lNoPPi', '6nmz4imkDcmtwMjocAzFSx', '6ApJN7sbsgAKwO29JbSLiK', '6DGV9o1qFcx18O6uRIeCBM', '1CEPBDQk2rU9bIBwcsXkOM', '0pQUfZl5GTLhqZWyv3okod', '1MZxQrYszhFP3Sb603swtM', '3K1zfXs8o4OMTobXnEWYrr', '2GyA33q5rti5IxkMQemRDH', '5jsw9uXEGuKyJzs0boZ1bT', '2BBwKogsgV6n2wxbC7MGFC', '6HZ9VeI5IRFCNQLXhpF4bq', '7DTlsMOQjGysXHpwwpHuPl', '2NVt7fxr5GsqTkGwYXcNTE', '0cyDtn3bMS1XoTp6Lcef1d', '07sOl7WsmCaUqaJaRn9Dss', '2ng5lhEsASy6jgbOLg877a', '2nBRptHRrQGUNrOeZQT8oU', '08WPvDEsHvTFuB9w8tC2OS', '2AGottAzfC8bHzF7kEJ3Wa', '3ESSGgWzRf1xvP7G5hHMhB', '7ioiB40H9xKs04QtIso2I3', '0hy1SOTEn9ifXTzOwnCwEr', '33CFCErrSDgJKZiqhv5B7s']\n"
     ]
    }
   ],
   "source": [
    "print(p2015)"
   ]
  },
  {
   "cell_type": "code",
   "execution_count": 144,
   "id": "aa5beb49-2b46-4244-afa4-fe94dd2c7556",
   "metadata": {},
   "outputs": [],
   "source": [
    "def get_features(id):\n",
    "    track_info = sp.track(id)\n",
    "    features_info = sp.audio_features(id)\n",
    "    \n",
    "    #song information\n",
    "    \n",
    "    name = track_info['name']\n",
    "    album = track_info['album']['name']\n",
    "    artist = track_info['album']['artists'][0]['name']\n",
    "    release_date = track_info['album']['release_date']\n",
    "    duration = track_info['duration_ms']\n",
    "    popularity = track_info['popularity']\n",
    "    \n",
    "    #song audio features\n",
    "    \n",
    "    acousticness = features_info[0]['acousticness']\n",
    "    danceability = features_info[0]['danceability']\n",
    "    energy = features_info[0]['energy']\n",
    "    instrumentalness = features_info[0]['instrumentalness']\n",
    "    liveness = features_info[0]['liveness']\n",
    "    loudness = features_info[0]['loudness']\n",
    "    speechiness = features_info[0]['speechiness']\n",
    "    tempo = features_info[0]['tempo']\n",
    "    time_signature = features_info[0]['time_signature']\n",
    "    \n",
    "    track_data = [name, album, artist, release_date, duration, popularity, acousticness,\n",
    "                  danceability, energy, instrumentalness, liveness, loudness, speechiness, tempo, time_signature]\n",
    "    return track_data\n",
    "    \n",
    "    "
   ]
  },
  {
   "cell_type": "code",
   "execution_count": 154,
   "id": "2f3cd8a8-e187-4f54-b560-efdbbef0fd5e",
   "metadata": {
    "tags": []
   },
   "outputs": [
    {
     "data": {
      "text/html": [
       "<div>\n",
       "<style scoped>\n",
       "    .dataframe tbody tr th:only-of-type {\n",
       "        vertical-align: middle;\n",
       "    }\n",
       "\n",
       "    .dataframe tbody tr th {\n",
       "        vertical-align: top;\n",
       "    }\n",
       "\n",
       "    .dataframe thead th {\n",
       "        text-align: right;\n",
       "    }\n",
       "</style>\n",
       "<table border=\"1\" class=\"dataframe\">\n",
       "  <thead>\n",
       "    <tr style=\"text-align: right;\">\n",
       "      <th></th>\n",
       "      <th>Title</th>\n",
       "      <th>Album</th>\n",
       "      <th>Artist</th>\n",
       "      <th>Release_Date</th>\n",
       "      <th>Duration</th>\n",
       "      <th>Popularity</th>\n",
       "      <th>Acousticness</th>\n",
       "      <th>Danceability</th>\n",
       "      <th>Energy</th>\n",
       "      <th>Instrumentalness</th>\n",
       "      <th>Liveness</th>\n",
       "      <th>Loudness</th>\n",
       "      <th>Speechiness</th>\n",
       "      <th>Tempo</th>\n",
       "      <th>Time_Signature</th>\n",
       "    </tr>\n",
       "  </thead>\n",
       "  <tbody>\n",
       "    <tr>\n",
       "      <th>0</th>\n",
       "      <td>679 (feat. Remy Boyz)</td>\n",
       "      <td>679 (feat. Remy Boyz)</td>\n",
       "      <td>Fetty Wap</td>\n",
       "      <td>2015-06-29</td>\n",
       "      <td>196693</td>\n",
       "      <td>74</td>\n",
       "      <td>0.00256</td>\n",
       "      <td>0.618</td>\n",
       "      <td>0.717</td>\n",
       "      <td>0.000000</td>\n",
       "      <td>0.625</td>\n",
       "      <td>-5.738</td>\n",
       "      <td>0.3180</td>\n",
       "      <td>190.050</td>\n",
       "      <td>4</td>\n",
       "    </tr>\n",
       "    <tr>\n",
       "      <th>1</th>\n",
       "      <td>Lean On</td>\n",
       "      <td>Lean On</td>\n",
       "      <td>Major Lazer</td>\n",
       "      <td>2015-03-02</td>\n",
       "      <td>176561</td>\n",
       "      <td>0</td>\n",
       "      <td>0.00339</td>\n",
       "      <td>0.713</td>\n",
       "      <td>0.790</td>\n",
       "      <td>0.000868</td>\n",
       "      <td>0.485</td>\n",
       "      <td>-4.602</td>\n",
       "      <td>0.0574</td>\n",
       "      <td>98.011</td>\n",
       "      <td>4</td>\n",
       "    </tr>\n",
       "    <tr>\n",
       "      <th>2</th>\n",
       "      <td>Trap Queen</td>\n",
       "      <td>Trap Queen</td>\n",
       "      <td>Fetty Wap</td>\n",
       "      <td>2014-12-15</td>\n",
       "      <td>222093</td>\n",
       "      <td>42</td>\n",
       "      <td>0.02440</td>\n",
       "      <td>0.746</td>\n",
       "      <td>0.873</td>\n",
       "      <td>0.000000</td>\n",
       "      <td>0.354</td>\n",
       "      <td>-3.803</td>\n",
       "      <td>0.1280</td>\n",
       "      <td>148.075</td>\n",
       "      <td>4</td>\n",
       "    </tr>\n",
       "  </tbody>\n",
       "</table>\n",
       "</div>"
      ],
      "text/plain": [
       "                   Title                  Album       Artist Release_Date  \\\n",
       "0  679 (feat. Remy Boyz)  679 (feat. Remy Boyz)    Fetty Wap   2015-06-29   \n",
       "1                Lean On                Lean On  Major Lazer   2015-03-02   \n",
       "2             Trap Queen             Trap Queen    Fetty Wap   2014-12-15   \n",
       "\n",
       "   Duration  Popularity  Acousticness  Danceability  Energy  Instrumentalness  \\\n",
       "0    196693          74       0.00256         0.618   0.717          0.000000   \n",
       "1    176561           0       0.00339         0.713   0.790          0.000868   \n",
       "2    222093          42       0.02440         0.746   0.873          0.000000   \n",
       "\n",
       "   Liveness  Loudness  Speechiness    Tempo  Time_Signature  \n",
       "0     0.625    -5.738       0.3180  190.050               4  \n",
       "1     0.485    -4.602       0.0574   98.011               4  \n",
       "2     0.354    -3.803       0.1280  148.075               4  "
      ]
     },
     "execution_count": 154,
     "metadata": {},
     "output_type": "execute_result"
    }
   ],
   "source": [
    "track_list_2015 = []\n",
    "for i in range(len(p2015)):\n",
    "    time.sleep(.3)\n",
    "    track_data5 = get_features(p2015[i])\n",
    "    track_list_2015.append(track_data5)\n",
    "    \n",
    "playlist_2015 = pd.DataFrame(track_list_2015, columns = ['Title', 'Album', 'Artist', 'Release_Date', 'Duration', 'Popularity', 'Acousticness',\n",
    "                  'Danceability', 'Energy', 'Instrumentalness', 'Liveness', 'Loudness', 'Speechiness','Tempo', 'Time_Signature'])\n",
    "playlist_2015.head(3)"
   ]
  },
  {
   "cell_type": "code",
   "execution_count": 155,
   "id": "2ebc209a-f773-4305-9aa8-4fb555521f6b",
   "metadata": {},
   "outputs": [
    {
     "data": {
      "text/html": [
       "<div>\n",
       "<style scoped>\n",
       "    .dataframe tbody tr th:only-of-type {\n",
       "        vertical-align: middle;\n",
       "    }\n",
       "\n",
       "    .dataframe tbody tr th {\n",
       "        vertical-align: top;\n",
       "    }\n",
       "\n",
       "    .dataframe thead th {\n",
       "        text-align: right;\n",
       "    }\n",
       "</style>\n",
       "<table border=\"1\" class=\"dataframe\">\n",
       "  <thead>\n",
       "    <tr style=\"text-align: right;\">\n",
       "      <th></th>\n",
       "      <th>Title</th>\n",
       "      <th>Album</th>\n",
       "      <th>Artist</th>\n",
       "      <th>Release_Date</th>\n",
       "      <th>Duration</th>\n",
       "      <th>Popularity</th>\n",
       "      <th>Acousticness</th>\n",
       "      <th>Danceability</th>\n",
       "      <th>Energy</th>\n",
       "      <th>Instrumentalness</th>\n",
       "      <th>Liveness</th>\n",
       "      <th>Loudness</th>\n",
       "      <th>Speechiness</th>\n",
       "      <th>Tempo</th>\n",
       "      <th>Time_Signature</th>\n",
       "    </tr>\n",
       "  </thead>\n",
       "  <tbody>\n",
       "    <tr>\n",
       "      <th>0</th>\n",
       "      <td>A Head Full of Dreams</td>\n",
       "      <td>A Head Full of Dreams</td>\n",
       "      <td>Coldplay</td>\n",
       "      <td>2015-12-04</td>\n",
       "      <td>223773</td>\n",
       "      <td>68</td>\n",
       "      <td>0.0021</td>\n",
       "      <td>0.449</td>\n",
       "      <td>0.920</td>\n",
       "      <td>0.016700</td>\n",
       "      <td>0.3340</td>\n",
       "      <td>-4.982</td>\n",
       "      <td>0.0737</td>\n",
       "      <td>122.984</td>\n",
       "      <td>4</td>\n",
       "    </tr>\n",
       "    <tr>\n",
       "      <th>1</th>\n",
       "      <td>Hymn for the Weekend</td>\n",
       "      <td>A Head Full of Dreams</td>\n",
       "      <td>Coldplay</td>\n",
       "      <td>2015-12-04</td>\n",
       "      <td>258266</td>\n",
       "      <td>84</td>\n",
       "      <td>0.2110</td>\n",
       "      <td>0.491</td>\n",
       "      <td>0.693</td>\n",
       "      <td>0.000007</td>\n",
       "      <td>0.3250</td>\n",
       "      <td>-6.487</td>\n",
       "      <td>0.0377</td>\n",
       "      <td>90.027</td>\n",
       "      <td>4</td>\n",
       "    </tr>\n",
       "    <tr>\n",
       "      <th>2</th>\n",
       "      <td>Work</td>\n",
       "      <td>ANTI</td>\n",
       "      <td>Rihanna</td>\n",
       "      <td>2016-01-28</td>\n",
       "      <td>219320</td>\n",
       "      <td>0</td>\n",
       "      <td>0.0752</td>\n",
       "      <td>0.725</td>\n",
       "      <td>0.534</td>\n",
       "      <td>0.000000</td>\n",
       "      <td>0.0919</td>\n",
       "      <td>-6.238</td>\n",
       "      <td>0.0946</td>\n",
       "      <td>91.974</td>\n",
       "      <td>4</td>\n",
       "    </tr>\n",
       "  </tbody>\n",
       "</table>\n",
       "</div>"
      ],
      "text/plain": [
       "                   Title                  Album    Artist Release_Date  \\\n",
       "0  A Head Full of Dreams  A Head Full of Dreams  Coldplay   2015-12-04   \n",
       "1   Hymn for the Weekend  A Head Full of Dreams  Coldplay   2015-12-04   \n",
       "2                   Work                   ANTI   Rihanna   2016-01-28   \n",
       "\n",
       "   Duration  Popularity  Acousticness  Danceability  Energy  Instrumentalness  \\\n",
       "0    223773          68        0.0021         0.449   0.920          0.016700   \n",
       "1    258266          84        0.2110         0.491   0.693          0.000007   \n",
       "2    219320           0        0.0752         0.725   0.534          0.000000   \n",
       "\n",
       "   Liveness  Loudness  Speechiness    Tempo  Time_Signature  \n",
       "0    0.3340    -4.982       0.0737  122.984               4  \n",
       "1    0.3250    -6.487       0.0377   90.027               4  \n",
       "2    0.0919    -6.238       0.0946   91.974               4  "
      ]
     },
     "execution_count": 155,
     "metadata": {},
     "output_type": "execute_result"
    }
   ],
   "source": [
    "track_list_2016 = []\n",
    "for i in range(len(p2016)):\n",
    "    time.sleep(.3)\n",
    "    track_data6 = get_features(p2016[i])\n",
    "    track_list_2016.append(track_data6)\n",
    "    \n",
    "playlist_2016 = pd.DataFrame(track_list_2016, columns = ['Title', 'Album', 'Artist', 'Release_Date', 'Duration', 'Popularity', 'Acousticness',\n",
    "                  'Danceability', 'Energy', 'Instrumentalness', 'Liveness', 'Loudness', 'Speechiness','Tempo', 'Time_Signature'])\n",
    "playlist_2016.head(3)"
   ]
  },
  {
   "cell_type": "code",
   "execution_count": null,
   "id": "e371f5dc-ca12-49ba-b2c4-1df54a01e342",
   "metadata": {},
   "outputs": [],
   "source": [
    "track_list_2017 = []\n",
    "for i in range(len(p2017)):\n",
    "    time.sleep(.3)\n",
    "    track_data7 = get_features(p2017[i])\n",
    "    track_list_2017.append(track_data7)\n",
    "    \n",
    "playlist_2017 = pd.DataFrame(track_list_2017, columns = ['Title', 'Album', 'Artist', 'Release_Date', 'Duration', 'Popularity', 'Acousticness',\n",
    "                  'Danceability', 'Energy', 'Instrumentalness', 'Liveness', 'Loudness', 'Speechiness','Tempo', 'Time_Signature'])\n",
    "playlist_2017.head(3)"
   ]
  },
  {
   "cell_type": "code",
   "execution_count": null,
   "id": "bbc53a27-f9d1-47dd-aa16-f6b85aef1fd7",
   "metadata": {
    "tags": []
   },
   "outputs": [],
   "source": [
    "track_list_2018 = []\n",
    "for i in range(len(p2018)):\n",
    "    time.sleep(.3)\n",
    "    track_data8 = get_features(p2018[i])\n",
    "    track_list_2018.append(track_data8)\n",
    "    \n",
    "playlist_2018 = pd.DataFrame(track_list_2018, columns = ['Title', 'Album', 'Artist', 'Release_Date', 'Duration', 'Popularity', 'Acousticness',\n",
    "                  'Danceability', 'Energy', 'Instrumentalness', 'Liveness', 'Loudness', 'Speechiness','Tempo', 'Time_Signature'])\n",
    "playlist_2018.head(3)"
   ]
  },
  {
   "cell_type": "code",
   "execution_count": null,
   "id": "ca9a8ed5-81d6-4413-803d-f7d80aa4357b",
   "metadata": {},
   "outputs": [],
   "source": [
    "track_list_2019 = []\n",
    "for i in range(len(p2019)):\n",
    "    time.sleep(.3)\n",
    "    track_data9 = get_features(p2019[i])\n",
    "    track_list_2019.append(track_data9)\n",
    "    \n",
    "playlist_2019 = pd.DataFrame(track_list_2019, columns = ['Title', 'Album', 'Artist', 'Release_Date', 'Duration', 'Popularity', 'Acousticness',\n",
    "                  'Danceability', 'Energy', 'Instrumentalness', 'Liveness', 'Loudness', 'Speechiness','Tempo', 'Time_Signature'])\n",
    "playlist_2019.head(3)"
   ]
  },
  {
   "cell_type": "code",
   "execution_count": null,
   "id": "acb59222-a32c-4659-af14-b15c107939d0",
   "metadata": {},
   "outputs": [],
   "source": [
    "track_list_2020 = []\n",
    "for i in range(len(p2020)):\n",
    "    time.sleep(.3)\n",
    "    track_data20 = get_features(p2020[i])\n",
    "    track_list_2020.append(track_data20)\n",
    "    \n",
    "playlist_2020 = pd.DataFrame(track_list_2020, columns = ['Title', 'Album', 'Artist', 'Release_Date', 'Duration', 'Popularity', 'Acousticness',\n",
    "                  'Danceability', 'Energy', 'Instrumentalness', 'Liveness', 'Loudness', 'Speechiness','Tempo', 'Time_Signature'])\n",
    "playlist_2020.head(3)"
   ]
  },
  {
   "cell_type": "code",
   "execution_count": null,
   "id": "31d09f79-e312-4a48-8192-83bf612f1a7e",
   "metadata": {},
   "outputs": [],
   "source": [
    "track_list_2021 = []\n",
    "for i in range(len(p2021)):\n",
    "    time.sleep(.3)\n",
    "    track_data21 = get_features(p2021[i])\n",
    "    track_list_2021.append(track_data21)\n",
    "    \n",
    "playlist_2021 = pd.DataFrame(track_list_2021, columns = ['Title', 'Album', 'Artist', 'Release_Date', 'Duration', 'Popularity', 'Acousticness',\n",
    "                  'Danceability', 'Energy', 'Instrumentalness', 'Liveness', 'Loudness', 'Speechiness','Tempo', 'Time_Signature'])\n",
    "playlist_2021.head(3)"
   ]
  },
  {
   "cell_type": "code",
   "execution_count": null,
   "id": "aae1734a-0851-4929-bfd6-8e1ed18e24de",
   "metadata": {},
   "outputs": [],
   "source": [
    "track_list_2022 = []\n",
    "for i in range(len(p2022)):\n",
    "    time.sleep(.3)\n",
    "    track_data22 = get_features(p2022[i])\n",
    "    track_list_2022.append(track_data22)\n",
    "    \n",
    "playlist_2022 = pd.DataFrame(track_list_2022, columns = ['Title', 'Album', 'Artist', 'Release_Date', 'Duration', 'Popularity', 'Acousticness',\n",
    "                  'Danceability', 'Energy', 'Instrumentalness', 'Liveness', 'Loudness', 'Speechiness','Tempo', 'Time_Signature'])\n",
    "playlist_2022.head(3)"
   ]
  },
  {
   "cell_type": "code",
   "execution_count": null,
   "id": "721aa495-4e83-4650-a7b9-ffbf063cdfd2",
   "metadata": {},
   "outputs": [],
   "source": []
  }
 ],
 "metadata": {
  "kernelspec": {
   "display_name": "Python 3 (ipykernel)",
   "language": "python",
   "name": "python3"
  },
  "language_info": {
   "codemirror_mode": {
    "name": "ipython",
    "version": 3
   },
   "file_extension": ".py",
   "mimetype": "text/x-python",
   "name": "python",
   "nbconvert_exporter": "python",
   "pygments_lexer": "ipython3",
   "version": "3.10.6"
  }
 },
 "nbformat": 4,
 "nbformat_minor": 5
}
