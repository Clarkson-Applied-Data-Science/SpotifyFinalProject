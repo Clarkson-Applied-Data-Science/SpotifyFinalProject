{
 "cells": [
  {
   "cell_type": "code",
   "execution_count": 1,
   "id": "633646e6-055c-4d9c-a497-2a941103da0b",
   "metadata": {
    "collapsed": true,
    "jupyter": {
     "outputs_hidden": true
    },
    "tags": []
   },
   "outputs": [
    {
     "name": "stdout",
     "output_type": "stream",
     "text": [
      "Collecting spotipy\n",
      "  Downloading spotipy-2.21.0-py3-none-any.whl (28 kB)\n",
      "Requirement already satisfied: requests>=2.25.0 in /opt/homebrew/Cellar/jupyterlab/3.4.7/libexec/lib/python3.10/site-packages (from spotipy) (2.28.1)\n",
      "Requirement already satisfied: six>=1.15.0 in /opt/homebrew/Cellar/six/1.16.0_2/lib/python3.10/site-packages (from spotipy) (1.16.0)\n",
      "Requirement already satisfied: urllib3>=1.26.0 in /opt/homebrew/Cellar/jupyterlab/3.4.7/libexec/lib/python3.10/site-packages (from spotipy) (1.26.12)\n",
      "Collecting redis>=3.5.3\n",
      "  Downloading redis-4.3.5-py3-none-any.whl (248 kB)\n",
      "\u001b[2K     \u001b[90m━━━━━━━━━━━━━━━━━━━━━━━━━━━━━━━━━━━━━━━\u001b[0m \u001b[32m248.7/248.7 kB\u001b[0m \u001b[31m3.2 MB/s\u001b[0m eta \u001b[36m0:00:00\u001b[0ma \u001b[36m0:00:01\u001b[0m\n",
      "\u001b[?25hCollecting async-timeout>=4.0.2\n",
      "  Downloading async_timeout-4.0.2-py3-none-any.whl (5.8 kB)\n",
      "Requirement already satisfied: packaging>=20.4 in /opt/homebrew/Cellar/jupyterlab/3.4.7/libexec/lib/python3.10/site-packages (from redis>=3.5.3->spotipy) (21.3)\n",
      "Requirement already satisfied: charset-normalizer<3,>=2 in /opt/homebrew/Cellar/jupyterlab/3.4.7/libexec/lib/python3.10/site-packages (from requests>=2.25.0->spotipy) (2.1.1)\n",
      "Requirement already satisfied: idna<4,>=2.5 in /opt/homebrew/Cellar/jupyterlab/3.4.7/libexec/lib/python3.10/site-packages (from requests>=2.25.0->spotipy) (3.4)\n",
      "Requirement already satisfied: certifi>=2017.4.17 in /opt/homebrew/Cellar/jupyterlab/3.4.7/libexec/lib/python3.10/site-packages (from requests>=2.25.0->spotipy) (2022.6.15.2)\n",
      "Requirement already satisfied: pyparsing!=3.0.5,>=2.0.2 in /opt/homebrew/Cellar/jupyterlab/3.4.7/libexec/lib/python3.10/site-packages (from packaging>=20.4->redis>=3.5.3->spotipy) (3.0.9)\n",
      "Installing collected packages: async-timeout, redis, spotipy\n",
      "Successfully installed async-timeout-4.0.2 redis-4.3.5 spotipy-2.21.0\n",
      "\n",
      "\u001b[1m[\u001b[0m\u001b[34;49mnotice\u001b[0m\u001b[1;39;49m]\u001b[0m\u001b[39;49m A new release of pip available: \u001b[0m\u001b[31;49m22.2.2\u001b[0m\u001b[39;49m -> \u001b[0m\u001b[32;49m22.3.1\u001b[0m\n",
      "\u001b[1m[\u001b[0m\u001b[34;49mnotice\u001b[0m\u001b[1;39;49m]\u001b[0m\u001b[39;49m To update, run: \u001b[0m\u001b[32;49mpython3.10 -m pip install --upgrade pip\u001b[0m\n",
      "Note: you may need to restart the kernel to use updated packages.\n"
     ]
    }
   ],
   "source": [
    "pip install spotipy"
   ]
  },
  {
   "cell_type": "code",
   "execution_count": 50,
   "id": "4e9c32d6-2a39-4991-a7d5-dfec21a278da",
   "metadata": {},
   "outputs": [],
   "source": [
    "import spotipy, mysecrets,requests,base64,webbrowser,json,time\n",
    "from urllib.parse import urlencode\n",
    "from spotipy.oauth2 import SpotifyClientCredentials "
   ]
  },
  {
   "cell_type": "code",
   "execution_count": 55,
   "id": "1159e324-64f5-41bb-9b61-0413a49918c6",
   "metadata": {},
   "outputs": [],
   "source": [
    "client_id = mysecrets.client_id\n",
    "client_secret = mysecrets.client_secret\n",
    "\n",
    "auth_headers = {\n",
    "    \"client_id\": client_id,\n",
    "    \"response_type\": \"code\",\n",
    "    \"redirect_uri\": \"http://localhost:7777/callback\",\n",
    "    \"scope\": \"user-library-read\"\n",
    "} "
   ]
  },
  {
   "cell_type": "code",
   "execution_count": 56,
   "id": "d00c72ab-9a50-4d32-894f-9b25550052f1",
   "metadata": {},
   "outputs": [
    {
     "data": {
      "text/plain": [
       "True"
      ]
     },
     "execution_count": 56,
     "metadata": {},
     "output_type": "execute_result"
    }
   ],
   "source": [
    "webbrowser.open(\"https://accounts.spotify.com/authorize?\" + urlencode(auth_headers))"
   ]
  },
  {
   "cell_type": "code",
   "execution_count": 62,
   "id": "ab1ed5ac-ca61-4a50-89aa-97c52be429fa",
   "metadata": {},
   "outputs": [],
   "source": [
    "code = \"AQAGvCfW2uKDLHheeE3WLaUkL9MFlOYeq8gd4NrOmSzBWSrike_N7yZ7kIZIAflscrrFUCrnbqU17qqwHmT49WQqJ4YkNCCguyzCz-t1NWdy31csTOzDV7HkzCAE4aaydOSsR7SjrczVdVItuFgZRJBvZu_1vNXeINLEo1WYsyG75Sx_N4Ibpa0eNUBZw1JmMPuHApU\""
   ]
  },
  {
   "cell_type": "code",
   "execution_count": 63,
   "id": "0b8128d4-909f-4129-9022-d469eb0a9e62",
   "metadata": {},
   "outputs": [],
   "source": [
    "encoded_credentials = base64.b64encode(client_id.encode() + b':' + client_secret.encode()).decode(\"utf-8\")\n",
    "\n",
    "token_headers = {\n",
    "    \"Authorization\": \"Basic \" + encoded_credentials,\n",
    "    \"Content-Type\": \"application/x-www-form-urlencoded\"\n",
    "}\n",
    "\n",
    "token_data = {\n",
    "    \"grant_type\": \"authorization_code\",\n",
    "    \"code\": code,\n",
    "    \"redirect_uri\": \"http://localhost:7777/callback\"\n",
    "}\n",
    "\n",
    "r = requests.post(\"https://accounts.spotify.com/api/token\", data = token_data, headers = token_headers)"
   ]
  },
  {
   "cell_type": "code",
   "execution_count": 66,
   "id": "1827b27e-56f3-4f25-8459-8239a9409ad1",
   "metadata": {
    "tags": []
   },
   "outputs": [
    {
     "name": "stdout",
     "output_type": "stream",
     "text": [
      "BQCjJt0tHYqLpBLJk5RUwe4vV9rH3xRrrRH0eE2mGUbsIQE5BYhlu5cMbASD7zeOYHlHvla_GPmc4Pv7C7J2bK48cX-ic_PnGcss6AEZtTyaoZlg2OvqknOQ5bOanNklEKqv1A9a5ZQLjTVATfAo9f8UdiOxfm8zyQn2tJ1Kg-1qcLltG3PyK3RqpDBuB-jz\n"
     ]
    }
   ],
   "source": [
    "token = r.json()[\"access_token\"]\n",
    "\n",
    "print(token)"
   ]
  },
  {
   "cell_type": "code",
   "execution_count": 67,
   "id": "32ec81f0-50d8-4b50-88a8-2bd56cc53542",
   "metadata": {
    "collapsed": true,
    "jupyter": {
     "outputs_hidden": true
    },
    "tags": []
   },
   "outputs": [
    {
     "name": "stdout",
     "output_type": "stream",
     "text": [
      "{'href': 'https://api.spotify.com/v1/me/tracks?offset=0&limit=5', 'items': [{'added_at': '2022-11-19T04:11:21Z', 'track': {'album': {'album_type': 'album', 'artists': [{'external_urls': {'spotify': 'https://open.spotify.com/artist/06HL4z0CvFAxyc27GXpf02'}, 'href': 'https://api.spotify.com/v1/artists/06HL4z0CvFAxyc27GXpf02', 'id': '06HL4z0CvFAxyc27GXpf02', 'name': 'Taylor Swift', 'type': 'artist', 'uri': 'spotify:artist:06HL4z0CvFAxyc27GXpf02'}], 'available_markets': ['CA', 'US'], 'external_urls': {'spotify': 'https://open.spotify.com/album/34OkZVpuzBa9y40DCy0LPR'}, 'href': 'https://api.spotify.com/v1/albums/34OkZVpuzBa9y40DCy0LPR', 'id': '34OkZVpuzBa9y40DCy0LPR', 'images': [{'height': 640, 'url': 'https://i.scdn.co/image/ab67616d0000b273332d85510aba3eb28312cfb2', 'width': 640}, {'height': 300, 'url': 'https://i.scdn.co/image/ab67616d00001e02332d85510aba3eb28312cfb2', 'width': 300}, {'height': 64, 'url': 'https://i.scdn.co/image/ab67616d00004851332d85510aba3eb28312cfb2', 'width': 64}], 'name': '1989 (Deluxe Edition)', 'release_date': '2014-10-27', 'release_date_precision': 'day', 'total_tracks': 19, 'type': 'album', 'uri': 'spotify:album:34OkZVpuzBa9y40DCy0LPR'}, 'artists': [{'external_urls': {'spotify': 'https://open.spotify.com/artist/06HL4z0CvFAxyc27GXpf02'}, 'href': 'https://api.spotify.com/v1/artists/06HL4z0CvFAxyc27GXpf02', 'id': '06HL4z0CvFAxyc27GXpf02', 'name': 'Taylor Swift', 'type': 'artist', 'uri': 'spotify:artist:06HL4z0CvFAxyc27GXpf02'}], 'available_markets': ['CA', 'US'], 'disc_number': 1, 'duration_ms': 267106, 'explicit': False, 'external_ids': {'isrc': 'USCJY1431439'}, 'external_urls': {'spotify': 'https://open.spotify.com/track/4A2LfnduSTsE8u0ecYROxE'}, 'href': 'https://api.spotify.com/v1/tracks/4A2LfnduSTsE8u0ecYROxE', 'id': '4A2LfnduSTsE8u0ecYROxE', 'is_local': False, 'name': 'You Are In Love', 'popularity': 64, 'preview_url': 'https://p.scdn.co/mp3-preview/dfeb09062d4755f2807773ceceb6022cc87f4bfb?cid=d66d5588b18142ebaf1c9c9f2148fbea', 'track_number': 15, 'type': 'track', 'uri': 'spotify:track:4A2LfnduSTsE8u0ecYROxE'}}, {'added_at': '2022-11-19T04:03:31Z', 'track': {'album': {'album_type': 'album', 'artists': [{'external_urls': {'spotify': 'https://open.spotify.com/artist/06HL4z0CvFAxyc27GXpf02'}, 'href': 'https://api.spotify.com/v1/artists/06HL4z0CvFAxyc27GXpf02', 'id': '06HL4z0CvFAxyc27GXpf02', 'name': 'Taylor Swift', 'type': 'artist', 'uri': 'spotify:artist:06HL4z0CvFAxyc27GXpf02'}], 'available_markets': ['AD', 'AE', 'AG', 'AL', 'AM', 'AO', 'AR', 'AT', 'AU', 'AZ', 'BA', 'BB', 'BD', 'BE', 'BF', 'BG', 'BH', 'BI', 'BJ', 'BN', 'BO', 'BR', 'BS', 'BT', 'BW', 'BY', 'BZ', 'CA', 'CD', 'CG', 'CH', 'CI', 'CL', 'CM', 'CO', 'CR', 'CV', 'CW', 'CY', 'CZ', 'DE', 'DJ', 'DK', 'DM', 'DO', 'DZ', 'EC', 'EE', 'EG', 'ES', 'FI', 'FJ', 'FM', 'FR', 'GA', 'GB', 'GD', 'GE', 'GH', 'GM', 'GN', 'GQ', 'GR', 'GT', 'GW', 'GY', 'HK', 'HN', 'HR', 'HT', 'HU', 'ID', 'IE', 'IL', 'IN', 'IQ', 'IS', 'IT', 'JM', 'JO', 'JP', 'KE', 'KG', 'KH', 'KI', 'KM', 'KN', 'KR', 'KW', 'KZ', 'LA', 'LB', 'LC', 'LI', 'LK', 'LR', 'LS', 'LT', 'LU', 'LV', 'LY', 'MA', 'MC', 'MD', 'ME', 'MG', 'MH', 'MK', 'ML', 'MN', 'MO', 'MR', 'MT', 'MU', 'MV', 'MW', 'MX', 'MY', 'MZ', 'NA', 'NE', 'NG', 'NI', 'NL', 'NO', 'NP', 'NR', 'NZ', 'OM', 'PA', 'PE', 'PG', 'PH', 'PK', 'PL', 'PS', 'PT', 'PW', 'PY', 'QA', 'RO', 'RS', 'RW', 'SA', 'SB', 'SC', 'SE', 'SG', 'SI', 'SK', 'SL', 'SM', 'SN', 'SR', 'ST', 'SV', 'SZ', 'TD', 'TG', 'TH', 'TJ', 'TL', 'TN', 'TO', 'TR', 'TT', 'TV', 'TW', 'TZ', 'UA', 'UG', 'US', 'UY', 'UZ', 'VC', 'VE', 'VN', 'VU', 'WS', 'XK', 'ZA', 'ZM', 'ZW'], 'external_urls': {'spotify': 'https://open.spotify.com/album/6DEjYFkNZh67HP7R9PSZvv'}, 'href': 'https://api.spotify.com/v1/albums/6DEjYFkNZh67HP7R9PSZvv', 'id': '6DEjYFkNZh67HP7R9PSZvv', 'images': [{'height': 640, 'url': 'https://i.scdn.co/image/ab67616d0000b273da5d5aeeabacacc1263c0f4b', 'width': 640}, {'height': 300, 'url': 'https://i.scdn.co/image/ab67616d00001e02da5d5aeeabacacc1263c0f4b', 'width': 300}, {'height': 64, 'url': 'https://i.scdn.co/image/ab67616d00004851da5d5aeeabacacc1263c0f4b', 'width': 64}], 'name': 'reputation', 'release_date': '2017-11-10', 'release_date_precision': 'day', 'total_tracks': 15, 'type': 'album', 'uri': 'spotify:album:6DEjYFkNZh67HP7R9PSZvv'}, 'artists': [{'external_urls': {'spotify': 'https://open.spotify.com/artist/06HL4z0CvFAxyc27GXpf02'}, 'href': 'https://api.spotify.com/v1/artists/06HL4z0CvFAxyc27GXpf02', 'id': '06HL4z0CvFAxyc27GXpf02', 'name': 'Taylor Swift', 'type': 'artist', 'uri': 'spotify:artist:06HL4z0CvFAxyc27GXpf02'}], 'available_markets': ['AD', 'AE', 'AG', 'AL', 'AM', 'AO', 'AR', 'AT', 'AU', 'AZ', 'BA', 'BB', 'BD', 'BE', 'BF', 'BG', 'BH', 'BI', 'BJ', 'BN', 'BO', 'BR', 'BS', 'BT', 'BW', 'BY', 'BZ', 'CA', 'CD', 'CG', 'CH', 'CI', 'CL', 'CM', 'CO', 'CR', 'CV', 'CW', 'CY', 'CZ', 'DE', 'DJ', 'DK', 'DM', 'DO', 'DZ', 'EC', 'EE', 'EG', 'ES', 'FI', 'FJ', 'FM', 'FR', 'GA', 'GB', 'GD', 'GE', 'GH', 'GM', 'GN', 'GQ', 'GR', 'GT', 'GW', 'GY', 'HK', 'HN', 'HR', 'HT', 'HU', 'ID', 'IE', 'IL', 'IN', 'IQ', 'IS', 'IT', 'JM', 'JO', 'JP', 'KE', 'KG', 'KH', 'KI', 'KM', 'KN', 'KR', 'KW', 'KZ', 'LA', 'LB', 'LC', 'LI', 'LK', 'LR', 'LS', 'LT', 'LU', 'LV', 'LY', 'MA', 'MC', 'MD', 'ME', 'MG', 'MH', 'MK', 'ML', 'MN', 'MO', 'MR', 'MT', 'MU', 'MV', 'MW', 'MX', 'MY', 'MZ', 'NA', 'NE', 'NG', 'NI', 'NL', 'NO', 'NP', 'NR', 'NZ', 'OM', 'PA', 'PE', 'PG', 'PH', 'PK', 'PL', 'PS', 'PT', 'PW', 'PY', 'QA', 'RO', 'RS', 'RW', 'SA', 'SB', 'SC', 'SE', 'SG', 'SI', 'SK', 'SL', 'SM', 'SN', 'SR', 'ST', 'SV', 'SZ', 'TD', 'TG', 'TH', 'TJ', 'TL', 'TN', 'TO', 'TR', 'TT', 'TV', 'TW', 'TZ', 'UA', 'UG', 'US', 'UY', 'UZ', 'VC', 'VE', 'VN', 'VU', 'WS', 'XK', 'ZA', 'ZM', 'ZW'], 'disc_number': 1, 'duration_ms': 214320, 'explicit': False, 'external_ids': {'isrc': 'USCJY1750011'}, 'external_urls': {'spotify': 'https://open.spotify.com/track/7HuBDWi18s4aJM8UFnNheH'}, 'href': 'https://api.spotify.com/v1/tracks/7HuBDWi18s4aJM8UFnNheH', 'id': '7HuBDWi18s4aJM8UFnNheH', 'is_local': False, 'name': 'King Of My Heart', 'popularity': 72, 'preview_url': 'https://p.scdn.co/mp3-preview/a69bc5638cd95cb846c782639c8828a42b92da5b?cid=d66d5588b18142ebaf1c9c9f2148fbea', 'track_number': 10, 'type': 'track', 'uri': 'spotify:track:7HuBDWi18s4aJM8UFnNheH'}}, {'added_at': '2022-11-18T17:01:20Z', 'track': {'album': {'album_type': 'album', 'artists': [{'external_urls': {'spotify': 'https://open.spotify.com/artist/0hYxQe3AK5jBPCr5MumLHD'}, 'href': 'https://api.spotify.com/v1/artists/0hYxQe3AK5jBPCr5MumLHD', 'id': '0hYxQe3AK5jBPCr5MumLHD', 'name': 'Sugarland', 'type': 'artist', 'uri': 'spotify:artist:0hYxQe3AK5jBPCr5MumLHD'}], 'available_markets': ['AD', 'AE', 'AG', 'AL', 'AM', 'AO', 'AR', 'AT', 'AU', 'AZ', 'BA', 'BB', 'BD', 'BE', 'BF', 'BG', 'BH', 'BI', 'BJ', 'BN', 'BO', 'BR', 'BS', 'BT', 'BW', 'BY', 'BZ', 'CA', 'CD', 'CG', 'CH', 'CI', 'CL', 'CM', 'CO', 'CR', 'CV', 'CW', 'CY', 'CZ', 'DE', 'DJ', 'DK', 'DM', 'DO', 'DZ', 'EC', 'EE', 'EG', 'ES', 'FI', 'FJ', 'FM', 'FR', 'GA', 'GB', 'GD', 'GE', 'GH', 'GM', 'GN', 'GQ', 'GR', 'GT', 'GW', 'GY', 'HK', 'HN', 'HR', 'HT', 'HU', 'ID', 'IE', 'IL', 'IN', 'IQ', 'IS', 'IT', 'JM', 'JO', 'JP', 'KE', 'KG', 'KH', 'KI', 'KM', 'KN', 'KR', 'KW', 'KZ', 'LA', 'LB', 'LC', 'LI', 'LK', 'LR', 'LS', 'LT', 'LU', 'LV', 'LY', 'MA', 'MC', 'MD', 'ME', 'MG', 'MH', 'MK', 'ML', 'MN', 'MO', 'MR', 'MT', 'MU', 'MV', 'MW', 'MX', 'MY', 'MZ', 'NA', 'NE', 'NG', 'NI', 'NL', 'NO', 'NP', 'NR', 'NZ', 'OM', 'PA', 'PE', 'PG', 'PH', 'PK', 'PL', 'PS', 'PT', 'PW', 'PY', 'QA', 'RO', 'RS', 'RW', 'SA', 'SB', 'SC', 'SE', 'SG', 'SI', 'SK', 'SL', 'SM', 'SN', 'SR', 'ST', 'SV', 'SZ', 'TD', 'TG', 'TH', 'TJ', 'TL', 'TN', 'TO', 'TR', 'TT', 'TV', 'TW', 'TZ', 'UA', 'UG', 'US', 'UY', 'UZ', 'VC', 'VE', 'VN', 'VU', 'WS', 'XK', 'ZA', 'ZM', 'ZW'], 'external_urls': {'spotify': 'https://open.spotify.com/album/56XXDc04Gugu3CknMcsWLY'}, 'href': 'https://api.spotify.com/v1/albums/56XXDc04Gugu3CknMcsWLY', 'id': '56XXDc04Gugu3CknMcsWLY', 'images': [{'height': 640, 'url': 'https://i.scdn.co/image/ab67616d0000b27333452cbadb9db9189edd7250', 'width': 640}, {'height': 300, 'url': 'https://i.scdn.co/image/ab67616d00001e0233452cbadb9db9189edd7250', 'width': 300}, {'height': 64, 'url': 'https://i.scdn.co/image/ab67616d0000485133452cbadb9db9189edd7250', 'width': 64}], 'name': 'Bigger', 'release_date': '2018-06-08', 'release_date_precision': 'day', 'total_tracks': 11, 'type': 'album', 'uri': 'spotify:album:56XXDc04Gugu3CknMcsWLY'}, 'artists': [{'external_urls': {'spotify': 'https://open.spotify.com/artist/0hYxQe3AK5jBPCr5MumLHD'}, 'href': 'https://api.spotify.com/v1/artists/0hYxQe3AK5jBPCr5MumLHD', 'id': '0hYxQe3AK5jBPCr5MumLHD', 'name': 'Sugarland', 'type': 'artist', 'uri': 'spotify:artist:0hYxQe3AK5jBPCr5MumLHD'}, {'external_urls': {'spotify': 'https://open.spotify.com/artist/06HL4z0CvFAxyc27GXpf02'}, 'href': 'https://api.spotify.com/v1/artists/06HL4z0CvFAxyc27GXpf02', 'id': '06HL4z0CvFAxyc27GXpf02', 'name': 'Taylor Swift', 'type': 'artist', 'uri': 'spotify:artist:06HL4z0CvFAxyc27GXpf02'}], 'available_markets': ['AD', 'AE', 'AG', 'AL', 'AM', 'AO', 'AR', 'AT', 'AU', 'AZ', 'BA', 'BB', 'BD', 'BE', 'BF', 'BG', 'BH', 'BI', 'BJ', 'BN', 'BO', 'BR', 'BS', 'BT', 'BW', 'BY', 'BZ', 'CA', 'CD', 'CG', 'CH', 'CI', 'CL', 'CM', 'CO', 'CR', 'CV', 'CW', 'CY', 'CZ', 'DE', 'DJ', 'DK', 'DM', 'DO', 'DZ', 'EC', 'EE', 'EG', 'ES', 'FI', 'FJ', 'FM', 'FR', 'GA', 'GB', 'GD', 'GE', 'GH', 'GM', 'GN', 'GQ', 'GR', 'GT', 'GW', 'GY', 'HK', 'HN', 'HR', 'HT', 'HU', 'ID', 'IE', 'IL', 'IN', 'IQ', 'IS', 'IT', 'JM', 'JO', 'JP', 'KE', 'KG', 'KH', 'KI', 'KM', 'KN', 'KR', 'KW', 'KZ', 'LA', 'LB', 'LC', 'LI', 'LK', 'LR', 'LS', 'LT', 'LU', 'LV', 'LY', 'MA', 'MC', 'MD', 'ME', 'MG', 'MH', 'MK', 'ML', 'MN', 'MO', 'MR', 'MT', 'MU', 'MV', 'MW', 'MX', 'MY', 'MZ', 'NA', 'NE', 'NG', 'NI', 'NL', 'NO', 'NP', 'NR', 'NZ', 'OM', 'PA', 'PE', 'PG', 'PH', 'PK', 'PL', 'PS', 'PT', 'PW', 'PY', 'QA', 'RO', 'RS', 'RW', 'SA', 'SB', 'SC', 'SE', 'SG', 'SI', 'SK', 'SL', 'SM', 'SN', 'SR', 'ST', 'SV', 'SZ', 'TD', 'TG', 'TH', 'TJ', 'TL', 'TN', 'TO', 'TR', 'TT', 'TV', 'TW', 'TZ', 'UA', 'UG', 'US', 'UY', 'UZ', 'VC', 'VE', 'VN', 'VU', 'WS', 'XK', 'ZA', 'ZM', 'ZW'], 'disc_number': 1, 'duration_ms': 215106, 'explicit': False, 'external_ids': {'isrc': 'USUM71804122'}, 'external_urls': {'spotify': 'https://open.spotify.com/track/7fRruZ12gXGwBs0zXQ6e5V'}, 'href': 'https://api.spotify.com/v1/tracks/7fRruZ12gXGwBs0zXQ6e5V', 'id': '7fRruZ12gXGwBs0zXQ6e5V', 'is_local': False, 'name': 'Babe', 'popularity': 61, 'preview_url': 'https://p.scdn.co/mp3-preview/6e4edb9384305019d738cf30cbe192ad97eaa430?cid=d66d5588b18142ebaf1c9c9f2148fbea', 'track_number': 7, 'type': 'track', 'uri': 'spotify:track:7fRruZ12gXGwBs0zXQ6e5V'}}, {'added_at': '2022-11-18T16:56:20Z', 'track': {'album': {'album_type': 'single', 'artists': [{'external_urls': {'spotify': 'https://open.spotify.com/artist/7gXy60xRcwYujBFoYHnR2O'}, 'href': 'https://api.spotify.com/v1/artists/7gXy60xRcwYujBFoYHnR2O', 'id': '7gXy60xRcwYujBFoYHnR2O', 'name': 'Big Red Machine', 'type': 'artist', 'uri': 'spotify:artist:7gXy60xRcwYujBFoYHnR2O'}, {'external_urls': {'spotify': 'https://open.spotify.com/artist/06HL4z0CvFAxyc27GXpf02'}, 'href': 'https://api.spotify.com/v1/artists/06HL4z0CvFAxyc27GXpf02', 'id': '06HL4z0CvFAxyc27GXpf02', 'name': 'Taylor Swift', 'type': 'artist', 'uri': 'spotify:artist:06HL4z0CvFAxyc27GXpf02'}], 'available_markets': [], 'external_urls': {'spotify': 'https://open.spotify.com/album/4kD0pFwhEjEiF9pwUwkpNo'}, 'href': 'https://api.spotify.com/v1/albums/4kD0pFwhEjEiF9pwUwkpNo', 'id': '4kD0pFwhEjEiF9pwUwkpNo', 'images': [{'height': 640, 'url': 'https://i.scdn.co/image/ab67616d0000b273b8abc4de41be8b3158a4ef40', 'width': 640}, {'height': 300, 'url': 'https://i.scdn.co/image/ab67616d00001e02b8abc4de41be8b3158a4ef40', 'width': 300}, {'height': 64, 'url': 'https://i.scdn.co/image/ab67616d00004851b8abc4de41be8b3158a4ef40', 'width': 64}], 'name': 'Renegade (feat. Taylor Swift)', 'release_date': '2021-07-02', 'release_date_precision': 'day', 'total_tracks': 3, 'type': 'album', 'uri': 'spotify:album:4kD0pFwhEjEiF9pwUwkpNo'}, 'artists': [{'external_urls': {'spotify': 'https://open.spotify.com/artist/7gXy60xRcwYujBFoYHnR2O'}, 'href': 'https://api.spotify.com/v1/artists/7gXy60xRcwYujBFoYHnR2O', 'id': '7gXy60xRcwYujBFoYHnR2O', 'name': 'Big Red Machine', 'type': 'artist', 'uri': 'spotify:artist:7gXy60xRcwYujBFoYHnR2O'}, {'external_urls': {'spotify': 'https://open.spotify.com/artist/06HL4z0CvFAxyc27GXpf02'}, 'href': 'https://api.spotify.com/v1/artists/06HL4z0CvFAxyc27GXpf02', 'id': '06HL4z0CvFAxyc27GXpf02', 'name': 'Taylor Swift', 'type': 'artist', 'uri': 'spotify:artist:06HL4z0CvFAxyc27GXpf02'}], 'available_markets': [], 'disc_number': 1, 'duration_ms': 254466, 'explicit': True, 'external_ids': {'isrc': 'US38Y2141505'}, 'external_urls': {'spotify': 'https://open.spotify.com/track/1aU1wpYBSpP0M6IiihY5Ue'}, 'href': 'https://api.spotify.com/v1/tracks/1aU1wpYBSpP0M6IiihY5Ue', 'id': '1aU1wpYBSpP0M6IiihY5Ue', 'is_local': False, 'name': 'Renegade (feat. Taylor Swift)', 'popularity': 3, 'preview_url': None, 'track_number': 1, 'type': 'track', 'uri': 'spotify:track:1aU1wpYBSpP0M6IiihY5Ue'}}, {'added_at': '2022-11-17T14:10:55Z', 'track': {'album': {'album_type': 'compilation', 'artists': [{'external_urls': {'spotify': 'https://open.spotify.com/artist/0LyfQWJT6nXafLPZqxe9Of'}, 'href': 'https://api.spotify.com/v1/artists/0LyfQWJT6nXafLPZqxe9Of', 'id': '0LyfQWJT6nXafLPZqxe9Of', 'name': 'Various Artists', 'type': 'artist', 'uri': 'spotify:artist:0LyfQWJT6nXafLPZqxe9Of'}], 'available_markets': ['AD', 'AE', 'AG', 'AL', 'AM', 'AO', 'AR', 'AU', 'AZ', 'BA', 'BB', 'BD', 'BE', 'BF', 'BG', 'BH', 'BI', 'BJ', 'BN', 'BO', 'BR', 'BS', 'BT', 'BW', 'BY', 'BZ', 'CA', 'CD', 'CG', 'CH', 'CI', 'CL', 'CM', 'CO', 'CR', 'CV', 'CW', 'CY', 'CZ', 'DJ', 'DK', 'DM', 'DO', 'DZ', 'EC', 'EE', 'EG', 'ES', 'FI', 'FJ', 'FM', 'GA', 'GB', 'GD', 'GE', 'GH', 'GM', 'GN', 'GQ', 'GR', 'GT', 'GW', 'GY', 'HK', 'HN', 'HR', 'HT', 'HU', 'ID', 'IE', 'IL', 'IN', 'IQ', 'IS', 'IT', 'JM', 'JO', 'JP', 'KE', 'KG', 'KH', 'KI', 'KM', 'KN', 'KR', 'KW', 'KZ', 'LA', 'LB', 'LC', 'LI', 'LK', 'LR', 'LS', 'LT', 'LU', 'LV', 'LY', 'MA', 'MC', 'MD', 'ME', 'MG', 'MH', 'MK', 'ML', 'MN', 'MO', 'MR', 'MT', 'MU', 'MV', 'MW', 'MX', 'MY', 'MZ', 'NA', 'NE', 'NG', 'NI', 'NL', 'NO', 'NP', 'NR', 'NZ', 'OM', 'PA', 'PE', 'PG', 'PH', 'PK', 'PL', 'PS', 'PT', 'PW', 'PY', 'QA', 'RO', 'RS', 'RW', 'SA', 'SB', 'SC', 'SE', 'SG', 'SI', 'SK', 'SL', 'SM', 'SN', 'SR', 'ST', 'SV', 'SZ', 'TD', 'TG', 'TH', 'TJ', 'TL', 'TN', 'TO', 'TR', 'TT', 'TV', 'TW', 'TZ', 'UA', 'UG', 'US', 'UY', 'UZ', 'VC', 'VE', 'VN', 'VU', 'WS', 'XK', 'ZA', 'ZM', 'ZW'], 'external_urls': {'spotify': 'https://open.spotify.com/album/5VML6S956h4YfoYPooqLEi'}, 'href': 'https://api.spotify.com/v1/albums/5VML6S956h4YfoYPooqLEi', 'id': '5VML6S956h4YfoYPooqLEi', 'images': [{'height': 640, 'url': 'https://i.scdn.co/image/ab67616d0000b2735997605214d568d73fd365c2', 'width': 640}, {'height': 300, 'url': 'https://i.scdn.co/image/ab67616d00001e025997605214d568d73fd365c2', 'width': 300}, {'height': 64, 'url': 'https://i.scdn.co/image/ab67616d000048515997605214d568d73fd365c2', 'width': 64}], 'name': 'Fifty Shades Darker (Original Motion Picture Soundtrack)', 'release_date': '2017-02-10', 'release_date_precision': 'day', 'total_tracks': 19, 'type': 'album', 'uri': 'spotify:album:5VML6S956h4YfoYPooqLEi'}, 'artists': [{'external_urls': {'spotify': 'https://open.spotify.com/artist/5ZsFI1h6hIdQRw2ti0hz81'}, 'href': 'https://api.spotify.com/v1/artists/5ZsFI1h6hIdQRw2ti0hz81', 'id': '5ZsFI1h6hIdQRw2ti0hz81', 'name': 'ZAYN', 'type': 'artist', 'uri': 'spotify:artist:5ZsFI1h6hIdQRw2ti0hz81'}, {'external_urls': {'spotify': 'https://open.spotify.com/artist/06HL4z0CvFAxyc27GXpf02'}, 'href': 'https://api.spotify.com/v1/artists/06HL4z0CvFAxyc27GXpf02', 'id': '06HL4z0CvFAxyc27GXpf02', 'name': 'Taylor Swift', 'type': 'artist', 'uri': 'spotify:artist:06HL4z0CvFAxyc27GXpf02'}], 'available_markets': ['AD', 'AE', 'AG', 'AL', 'AM', 'AO', 'AR', 'AU', 'AZ', 'BA', 'BB', 'BD', 'BE', 'BF', 'BG', 'BH', 'BI', 'BJ', 'BN', 'BO', 'BR', 'BS', 'BT', 'BW', 'BY', 'BZ', 'CA', 'CD', 'CG', 'CH', 'CI', 'CL', 'CM', 'CO', 'CR', 'CV', 'CW', 'CY', 'CZ', 'DJ', 'DK', 'DM', 'DO', 'DZ', 'EC', 'EE', 'EG', 'ES', 'FI', 'FJ', 'FM', 'GA', 'GB', 'GD', 'GE', 'GH', 'GM', 'GN', 'GQ', 'GR', 'GT', 'GW', 'GY', 'HK', 'HN', 'HR', 'HT', 'HU', 'ID', 'IE', 'IL', 'IN', 'IQ', 'IS', 'IT', 'JM', 'JO', 'JP', 'KE', 'KG', 'KH', 'KI', 'KM', 'KN', 'KR', 'KW', 'KZ', 'LA', 'LB', 'LC', 'LI', 'LK', 'LR', 'LS', 'LT', 'LU', 'LV', 'LY', 'MA', 'MC', 'MD', 'ME', 'MG', 'MH', 'MK', 'ML', 'MN', 'MO', 'MR', 'MT', 'MU', 'MV', 'MW', 'MX', 'MY', 'MZ', 'NA', 'NE', 'NG', 'NI', 'NL', 'NO', 'NP', 'NR', 'NZ', 'OM', 'PA', 'PE', 'PG', 'PH', 'PK', 'PL', 'PS', 'PT', 'PW', 'PY', 'QA', 'RO', 'RS', 'RW', 'SA', 'SB', 'SC', 'SE', 'SG', 'SI', 'SK', 'SL', 'SM', 'SN', 'SR', 'ST', 'SV', 'SZ', 'TD', 'TG', 'TH', 'TJ', 'TL', 'TN', 'TO', 'TR', 'TT', 'TV', 'TW', 'TZ', 'UA', 'UG', 'US', 'UY', 'UZ', 'VC', 'VE', 'VN', 'VU', 'WS', 'XK', 'ZA', 'ZM', 'ZW'], 'disc_number': 1, 'duration_ms': 245653, 'explicit': False, 'external_ids': {'isrc': 'USQ4E1602586'}, 'external_urls': {'spotify': 'https://open.spotify.com/track/2y5aJvzXhHPA94U5GFAcXe'}, 'href': 'https://api.spotify.com/v1/tracks/2y5aJvzXhHPA94U5GFAcXe', 'id': '2y5aJvzXhHPA94U5GFAcXe', 'is_local': False, 'name': 'I Don’t Wanna Live Forever (Fifty Shades Darker)', 'popularity': 65, 'preview_url': 'https://p.scdn.co/mp3-preview/d37de7a5080af1ea16973ecb53e02fa1ce0a18c5?cid=d66d5588b18142ebaf1c9c9f2148fbea', 'track_number': 1, 'type': 'track', 'uri': 'spotify:track:2y5aJvzXhHPA94U5GFAcXe'}}], 'limit': 5, 'next': 'https://api.spotify.com/v1/me/tracks?offset=5&limit=5', 'offset': 0, 'previous': None, 'total': 894}\n"
     ]
    }
   ],
   "source": [
    "user_headers = { \"Authorization\": \"Bearer \" + token, \"Content-Type\": \"application/json\" }\n",
    "user_params = {\"limit\": 5}\n",
    "\n",
    "user_tracks_response = requests.get(\"https://api.spotify.com/v1/me/tracks\", params=user_params, headers=user_headers)\n",
    "\n",
    "print(user_tracks_response.json())"
   ]
  },
  {
   "cell_type": "code",
   "execution_count": 69,
   "id": "ed0a7517-9c2e-4287-ba6c-e5b7f7c74d78",
   "metadata": {
    "tags": []
   },
   "outputs": [
    {
     "name": "stdout",
     "output_type": "stream",
     "text": [
      "{'error': {'status': 404, 'message': 'Service not found'}}\n"
     ]
    }
   ],
   "source": [
    "playlist = requests.get(\"https://api.spotify.com/v1/me/playlists/playlist_id\", params=user_params, headers=user_headers)\n",
    "print(playlist.json())"
   ]
  },
  {
   "cell_type": "code",
   "execution_count": 70,
   "id": "ef0b64f2-1f4d-4295-912c-be9ee27338a4",
   "metadata": {},
   "outputs": [],
   "source": [
    "client_credentials_manager = SpotifyClientCredentials(client_id=client_id, client_secret=client_secret)\n",
    "sp = spotipy.Spotify(client_credentials_manager=client_credentials_manager) "
   ]
  },
  {
   "cell_type": "code",
   "execution_count": null,
   "id": "c20bd908-8c7f-4e20-8749-d4b45e07a3fe",
   "metadata": {},
   "outputs": [],
   "source": [
    "playlist_id = sp."
   ]
  },
  {
   "cell_type": "code",
   "execution_count": null,
   "id": "4896c18f-0b28-4c61-871e-ca69465ef246",
   "metadata": {},
   "outputs": [],
   "source": [
    "#extracting track ids\n",
    "\n",
    "def get_track_id(playlist_id):\n",
    "    music_id = []\n",
    "    playlist = sp.playlist(playlist_id)\n",
    "    for item in playlist['tracks']['items']:\n",
    "        music_track = item['track']\n",
    "        music_id_list.append(music_tracl['id'])\n",
    "    return music_id_list"
   ]
  },
  {
   "cell_type": "code",
   "execution_count": null,
   "id": "61688080-f081-494c-9218-99f08a04255f",
   "metadata": {},
   "outputs": [],
   "source": [
    "#extracting track details\n",
    "\n",
    "def get_track_data(track_id):\n",
    "    meta = sp.track(track_id)\n",
    "    track_details = {\"name\": meta['name'], \"album\": meta['album']['name'],\n",
    "                     \"artist\": meta['album']['artists'][0]['name'],\n",
    "                     \"release_date\":meta['album']['release_date'],\n",
    "                     \"duration_in_mins\": round((meta['duration_ms'] * 0.001/60.0,2)}\n",
    "    return track_details"
   ]
  },
  {
   "cell_type": "code",
   "execution_count": null,
   "id": "d3d38293-0d42-4f76-8483-deb907afcb9d",
   "metadata": {},
   "outputs": [],
   "source": [
    "# looping over track ids\n",
    "\n",
    "tracks = []\n",
    "for i in range(len(track_ids)):\n",
    "    time.sleep(.5)\n",
    "    track = get_track_data(track_ids[i])\n",
    "    tracks.append(track)"
   ]
  },
  {
   "cell_type": "code",
   "execution_count": null,
   "id": "4d86938a-3d96-495d-a9b7-3d592f02afc0",
   "metadata": {},
   "outputs": [],
   "source": [
    "#saving in JSON file\n",
    "with open('spotify.json','w') as outfile:\n",
    "    json.dump(tracks,outfile, indent=4)"
   ]
  }
 ],
 "metadata": {
  "kernelspec": {
   "display_name": "Python 3 (ipykernel)",
   "language": "python",
   "name": "python3"
  },
  "language_info": {
   "codemirror_mode": {
    "name": "ipython",
    "version": 3
   },
   "file_extension": ".py",
   "mimetype": "text/x-python",
   "name": "python",
   "nbconvert_exporter": "python",
   "pygments_lexer": "ipython3",
   "version": "3.10.6"
  }
 },
 "nbformat": 4,
 "nbformat_minor": 5
}
